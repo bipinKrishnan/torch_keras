{
  "nbformat": 4,
  "nbformat_minor": 0,
  "metadata": {
    "colab": {
      "name": "functional_api_v1.ipynb",
      "provenance": [],
      "collapsed_sections": [],
      "authorship_tag": "ABX9TyPiRzkJ1KQVQMyJowPFzG0K",
      "include_colab_link": true
    },
    "kernelspec": {
      "name": "python3",
      "display_name": "Python 3"
    },
    "accelerator": "GPU"
  },
  "cells": [
    {
      "cell_type": "markdown",
      "metadata": {
        "id": "view-in-github",
        "colab_type": "text"
      },
      "source": [
        "<a href=\"https://colab.research.google.com/github/bipinKrishnan/torchkeras/blob/master/functional_api_v1.ipynb\" target=\"_parent\"><img src=\"https://colab.research.google.com/assets/colab-badge.svg\" alt=\"Open In Colab\"/></a>"
      ]
    },
    {
      "cell_type": "code",
      "metadata": {
        "id": "sTRyumaWcSwb",
        "colab_type": "code",
        "colab": {}
      },
      "source": [
        "!pip install pkbar"
      ],
      "execution_count": null,
      "outputs": []
    },
    {
      "cell_type": "code",
      "metadata": {
        "id": "MvXU9sLe_shh",
        "colab_type": "code",
        "colab": {
          "base_uri": "https://localhost:8080/",
          "height": 52
        },
        "outputId": "ace9b4a1-1f17-4fef-b9be-e4054e613b0f"
      },
      "source": [
        "x = [[[[1, 2, 3], [3, 2, 1]], [[1, 3, 5], [4, 6, 7]]]]\n",
        "a = (torch.tensor(x))\n",
        "a[0][0]"
      ],
      "execution_count": 128,
      "outputs": [
        {
          "output_type": "execute_result",
          "data": {
            "text/plain": [
              "tensor([[1, 2, 3],\n",
              "        [3, 2, 1]])"
            ]
          },
          "metadata": {
            "tags": []
          },
          "execution_count": 128
        }
      ]
    },
    {
      "cell_type": "code",
      "metadata": {
        "id": "Q-oEWtsIX6Xz",
        "colab_type": "code",
        "colab": {}
      },
      "source": [
        "import torch\n",
        "from torch import nn\n",
        "from torch import optim\n",
        "from torch.autograd import Variable\n",
        "from torchsummary import summary as summary_\n",
        "import pkbar\n",
        "\n",
        "import warnings\n",
        "warnings.filterwarnings('ignore')"
      ],
      "execution_count": 1,
      "outputs": []
    },
    {
      "cell_type": "markdown",
      "metadata": {
        "id": "VCugQ8DJae0g",
        "colab_type": "text"
      },
      "source": [
        "# TorchKeras"
      ]
    },
    {
      "cell_type": "code",
      "metadata": {
        "id": "_h4x_jTPpIfL",
        "colab_type": "code",
        "colab": {}
      },
      "source": [
        "def Input(shape):\n",
        "  Input.shape = shape\n",
        "  return Input.shape\n",
        "\n",
        "def get_conv_output(shape, inputs):\n",
        "  bs = 1\n",
        "  data = Variable(torch.rand(bs, *shape))\n",
        "  output_feat = inputs(data)\n",
        "\n",
        "  return output_feat.size(1)"
      ],
      "execution_count": 2,
      "outputs": []
    },
    {
      "cell_type": "code",
      "metadata": {
        "id": "-JJKHynxYHIj",
        "colab_type": "code",
        "colab": {}
      },
      "source": [
        "class Dense(nn.Module):\n",
        "  def __init__(self, outputs, activation):\n",
        "    super().__init__()\n",
        "    self.outputs = outputs\n",
        "    self.activation = activation\n",
        "\n",
        "  def __call__(self, inputs):\n",
        "    self.inputs_size = 1\n",
        "    \n",
        "    if type(inputs) == tuple:\n",
        "      for i in range(len(inputs)):\n",
        "        self.inputs_size *= inputs[i]\n",
        "      \n",
        "      self.layers = nn.Sequential(\n",
        "        nn.Linear(self.inputs_size, self.outputs),\n",
        "        self.activation\n",
        "    )\n",
        "\n",
        "      return self.layers\n",
        "\n",
        "    elif isinstance(inputs[-2], nn.Linear):\n",
        "      self.inputs = inputs\n",
        "      self.layers = list(self.inputs)\n",
        "      self.layers.extend([nn.Linear(self.layers[-2].out_features, self.outputs), self.activation])\n",
        "\n",
        "      self.layers = nn.Sequential(*self.layers)\n",
        "\n",
        "      return self.layers\n",
        "\n",
        "    else:\n",
        "      self.inputs = inputs\n",
        "      self.layers = list(self.inputs)\n",
        "      self.layers.extend([nn.Linear(get_conv_output(Input.shape, self.inputs), self.outputs), self.activation])\n",
        "\n",
        "      self.layers = nn.Sequential(*self.layers)\n",
        "\n",
        "      return self.layers\n",
        "\n",
        "\n",
        "class FlattenedLayer(nn.Module):\n",
        "  def __init__(self):\n",
        "    super().__init__()\n",
        "    pass\n",
        "\n",
        "  def forward(self, input):\n",
        "      self.inputs = input.view(input.size(0), -1)\n",
        "      return self.inputs\n",
        "\n",
        "\n",
        "class Flatten():\n",
        "  def __init__(self):\n",
        "    pass\n",
        "\n",
        "  def __call__(self, inputs):\n",
        "    self.inputs = inputs\n",
        "    self.layers = list(self.inputs)\n",
        "    self.layers.extend([FlattenedLayer()])\n",
        "    self.layers = nn.Sequential(*self.layers)\n",
        "\n",
        "    return self.layers"
      ],
      "execution_count": 3,
      "outputs": []
    },
    {
      "cell_type": "code",
      "metadata": {
        "id": "IALWgA3QwhtN",
        "colab_type": "code",
        "colab": {}
      },
      "source": [
        "class Conv2d(nn.Module):\n",
        "  def __init__(self, filters, kernel_size, strides, padding, dilation, activation):\n",
        "    super().__init__()\n",
        "    self.filters = filters\n",
        "    self.kernel = kernel_size\n",
        "    self.strides = strides\n",
        "    self.dilation = dilation\n",
        "    self.activation = activation\n",
        "\n",
        "    if padding == 'same':\n",
        "      self.padding = 1\n",
        "    else:\n",
        "      self.padding = 0\n",
        "\n",
        "  def __call__(self, inputs):\n",
        "\n",
        "    if type(inputs) == tuple:\n",
        "      self.inputs_size = inputs\n",
        "      self.layers = nn.Sequential(\n",
        "        nn.Conv2d(self.inputs_size[-3],\n",
        "                  self.filters, \n",
        "                  self.kernel, \n",
        "                  self.strides, \n",
        "                  self.dilation),\n",
        "        self.activation\n",
        "    )\n",
        "\n",
        "      return self.layers\n",
        "    else:\n",
        "      self.inputs = inputs\n",
        "      self.layers = list(self.inputs)\n",
        "      self.layers.extend(\n",
        "             [nn.Conv2d(self.layers[-2].out_channels, \n",
        "                    self.filters, \n",
        "                    self.kernel, \n",
        "                    self.strides, \n",
        "                    self.padding,\n",
        "                    self.dilation),\n",
        "             self.activation]\n",
        "          )\n",
        "      self.layers = nn.Sequential(*self.layers)\n",
        "\n",
        "      return self.layers\n"
      ],
      "execution_count": 4,
      "outputs": []
    },
    {
      "cell_type": "code",
      "metadata": {
        "id": "XZ81UK7tegjA",
        "colab_type": "code",
        "colab": {}
      },
      "source": [
        "class Model():\n",
        "  def __init__(self, inputs, outputs, device):\n",
        "    self.input_size = inputs\n",
        "    self.device = device\n",
        "    self.model = outputs.to(self.device)\n",
        "\n",
        "  def compile(self, optimizer, loss, metrics):\n",
        "    self.opt = optimizer\n",
        "    self.criterion = loss\n",
        "    self.metrics = metrics\n",
        "\n",
        "  def summary(self):\n",
        "    summary_(self.model, self.input_size, device=self.device)\n",
        "    print(\"Device Type:\", self.device)\n",
        "\n",
        "  def fit(self, data_x, data_y, epochs):\n",
        "    self.model.train()\n",
        "\n",
        "    for epoch in range(epochs):\n",
        "      print(\"Epoch {}/{}\".format(epoch+1, epochs))\n",
        "      progress = pkbar.Kbar(target=len(data_x), width=25)\n",
        "      \n",
        "      for i, (data, target) in enumerate(zip(data_x, data_y)):\n",
        "        self.opt.zero_grad()\n",
        "\n",
        "        train_out = self.model(data.to(self.device))\n",
        "        loss = self.criterion(train_out, target.to(self.device))\n",
        "        loss.backward()\n",
        "\n",
        "        self.opt.step()\n",
        "\n",
        "        progress.update(i, values=[(\"loss: \", loss.item())])\n",
        "\n",
        "      progress.add(1)\n",
        "\n",
        "  def evaluate(self, test_x, test_y):\n",
        "    self.model.eval()\n",
        "    correct, loss = 0.0, 0.0\n",
        "\n",
        "    progress = pkbar.Kbar(target=len(test_x), width=25)\n",
        "\n",
        "    for i, (data, target) in enumerate(zip(test_x, test_y)):\n",
        "      out = self.model(data.to(self.device))\n",
        "      loss += self.criterion(out, target.to(self.device))\n",
        "\n",
        "      correct += ((torch.max(out, 1)[1]) == target.to(self.device)).sum()\n",
        "\n",
        "      progress.update(i, values=[(\"loss\", loss.item()/len(test_x)), (\"acc\", (correct/len(test_x)).item())])\n",
        "    progress.add(1)\n",
        "\n",
        "\n",
        "  def fit_generator(self, generator, epochs):\n",
        "    self.model.train()\n",
        "\n",
        "    for epoch in range(epochs):\n",
        "      print(\"Epoch {}/{}\".format(epoch+1, epochs))\n",
        "      progress = pkbar.Kbar(target=len(generator), width=25)\n",
        "\n",
        "      for i, (data, target) in enumerate(generator):\n",
        "        self.opt.zero_grad()\n",
        "\n",
        "        train_out = self.model(data.to(self.device))\n",
        "        loss = self.criterion(train_out.squeeze(), target.to(self.device))\n",
        "        loss.backward()\n",
        "\n",
        "        self.opt.step()\n",
        "\n",
        "        progress.update(i, values=[(\"loss: \", loss.item())])\n",
        "\n",
        "      progress.add(1)\n",
        "      \n",
        "\n",
        "  def evaluate_generator(self, generator):\n",
        "    self.model.eval()\n",
        "    correct, loss = 0.0, 0.0\n",
        "\n",
        "    progress = pkbar.Kbar(target=len(generator), width=25)\n",
        "\n",
        "    for i, (data, target) in enumerate(generator):\n",
        "      out = self.model(data.to(self.device))\n",
        "      loss += self.criterion(out.squeeze(), target.to(self.device))\n",
        "\n",
        "      correct += (torch.max(out.squeeze(), 1)[1] == target.to(self.device)).sum()\n",
        "\n",
        "      progress.update(i, values=[(\"test_acc\", (correct/len(generator)).item()), (\"test_loss\", loss.item()/len(generator))])\n",
        "\n",
        "    progress.add(1)\n",
        "\n",
        "  def predict_generator(self, generator):\n",
        "    self.model.train()\n",
        "    out = []\n",
        "    for i, (data, labels) in enumerate(generator):\n",
        "      out.append(self.model(data.to(self.device)))\n",
        "\n",
        "    return out\n",
        "      "
      ],
      "execution_count": 5,
      "outputs": []
    },
    {
      "cell_type": "code",
      "metadata": {
        "id": "_mLysY7oOLGS",
        "colab_type": "code",
        "colab": {
          "base_uri": "https://localhost:8080/",
          "height": 243
        },
        "outputId": "9caa5643-f2c5-416b-e3de-4b2258922b12"
      },
      "source": [
        "inputs = Input((1, 300, 300))\n",
        "c1 = Conv2d(5, 3, 1, 'valid', 1, nn.ReLU())(inputs)\n",
        "c2 = Conv2d(10, 3, 1, 'same', 1, nn.ReLU())(c1)\n",
        "c3 = Conv2d(15, 5, 1, 'same', 1, nn.ReLU())(c2)\n",
        "c4 = Flatten()(c3)\n",
        "c5 = Dense(46, nn.ReLU())(c4)\n",
        "c6 = Dense(43, nn.ReLU())(c5)\n",
        "c6\n",
        "#Dense(46, nn.ReLU())(c4)\n",
        "#c5(torch.rand(10, 3, 28, 28)).shape#, (c3(torch.rand(10, 4, 32, 32))).view(10, -1).shape"
      ],
      "execution_count": 15,
      "outputs": [
        {
          "output_type": "execute_result",
          "data": {
            "text/plain": [
              "Sequential(\n",
              "  (0): Conv2d(1, 5, kernel_size=(3, 3), stride=(1, 1), padding=(1, 1))\n",
              "  (1): ReLU()\n",
              "  (2): Conv2d(5, 10, kernel_size=(3, 3), stride=(1, 1), padding=(1, 1))\n",
              "  (3): ReLU()\n",
              "  (4): Conv2d(10, 15, kernel_size=(5, 5), stride=(1, 1), padding=(1, 1))\n",
              "  (5): ReLU()\n",
              "  (6): FlattenedLayer()\n",
              "  (7): Linear(in_features=1332060, out_features=46, bias=True)\n",
              "  (8): ReLU()\n",
              "  (9): Linear(in_features=46, out_features=43, bias=True)\n",
              "  (10): ReLU()\n",
              ")"
            ]
          },
          "metadata": {
            "tags": []
          },
          "execution_count": 15
        }
      ]
    },
    {
      "cell_type": "code",
      "metadata": {
        "id": "u9TWCzyu50dE",
        "colab_type": "code",
        "colab": {
          "base_uri": "https://localhost:8080/",
          "height": 399
        },
        "outputId": "53430aa0-e760-4558-870b-787e000c2660"
      },
      "source": [
        "summary_(c5, (1, 300, 300), device='cpu')"
      ],
      "execution_count": 16,
      "outputs": [
        {
          "output_type": "stream",
          "text": [
            "----------------------------------------------------------------\n",
            "        Layer (type)               Output Shape         Param #\n",
            "================================================================\n",
            "            Conv2d-1          [-1, 5, 300, 300]              50\n",
            "              ReLU-2          [-1, 5, 300, 300]               0\n",
            "            Conv2d-3         [-1, 10, 300, 300]             460\n",
            "              ReLU-4         [-1, 10, 300, 300]               0\n",
            "            Conv2d-5         [-1, 15, 298, 298]           3,765\n",
            "              ReLU-6         [-1, 15, 298, 298]               0\n",
            "    FlattenedLayer-7              [-1, 1332060]               0\n",
            "            Linear-8                   [-1, 46]      61,274,806\n",
            "              ReLU-9                   [-1, 46]               0\n",
            "================================================================\n",
            "Total params: 61,279,081\n",
            "Trainable params: 61,279,081\n",
            "Non-trainable params: 0\n",
            "----------------------------------------------------------------\n",
            "Input size (MB): 0.34\n",
            "Forward/backward pass size (MB): 51.09\n",
            "Params size (MB): 233.76\n",
            "Estimated Total Size (MB): 285.19\n",
            "----------------------------------------------------------------\n"
          ],
          "name": "stdout"
        }
      ]
    },
    {
      "cell_type": "markdown",
      "metadata": {
        "id": "YxitfcXJOQ1R",
        "colab_type": "text"
      },
      "source": [
        "Fit\n",
        "--------\n",
        "(bs, 1, n_row×n_col) --> Tabular\n",
        "(bs, 1, row×col×channels) --> Images\n",
        "\n",
        "Fit Generator\n",
        "----------------\n",
        "(bs, 1, row×col×channels) "
      ]
    },
    {
      "cell_type": "markdown",
      "metadata": {
        "id": "N21QvHSGaZ3L",
        "colab_type": "text"
      },
      "source": [
        "# Test data"
      ]
    },
    {
      "cell_type": "code",
      "metadata": {
        "id": "Otnl-l-iZJJO",
        "colab_type": "code",
        "colab": {}
      },
      "source": [
        "device = 'cuda' if torch.cuda.is_available() else 'cpu'\n",
        "\n",
        "inputs = Input((1, 1024))\n",
        "x = Dense(54, nn.ReLU())(inputs)\n",
        "y = Dense(34, nn.ReLU())(x)\n",
        "z = Dense(43, activation=nn.ReLU())(y)\n",
        "a = Dense(10, activation=nn.ReLU())(z)\n",
        "b = Dense(1, activation=nn.Sigmoid())(a)"
      ],
      "execution_count": 19,
      "outputs": []
    },
    {
      "cell_type": "code",
      "metadata": {
        "id": "SKHqRcKYeLPI",
        "colab_type": "code",
        "colab": {}
      },
      "source": [
        "model = Model(inputs, b, 'cuda')\n",
        "model.compile(optim.Adam(z.parameters(), lr=0.001), nn.BCELoss(), 'accuracy')"
      ],
      "execution_count": 20,
      "outputs": []
    },
    {
      "cell_type": "code",
      "metadata": {
        "id": "ajMFyfaGyrGJ",
        "colab_type": "code",
        "colab": {
          "base_uri": "https://localhost:8080/",
          "height": 434
        },
        "outputId": "c5185b1f-60fa-4a62-99ea-49fc25644c66"
      },
      "source": [
        "model.summary()"
      ],
      "execution_count": 21,
      "outputs": [
        {
          "output_type": "stream",
          "text": [
            "----------------------------------------------------------------\n",
            "        Layer (type)               Output Shape         Param #\n",
            "================================================================\n",
            "            Linear-1                [-1, 1, 54]          55,350\n",
            "              ReLU-2                [-1, 1, 54]               0\n",
            "            Linear-3                [-1, 1, 34]           1,870\n",
            "              ReLU-4                [-1, 1, 34]               0\n",
            "            Linear-5                [-1, 1, 43]           1,505\n",
            "              ReLU-6                [-1, 1, 43]               0\n",
            "            Linear-7                [-1, 1, 10]             440\n",
            "              ReLU-8                [-1, 1, 10]               0\n",
            "            Linear-9                 [-1, 1, 1]              11\n",
            "          Sigmoid-10                 [-1, 1, 1]               0\n",
            "================================================================\n",
            "Total params: 59,176\n",
            "Trainable params: 59,176\n",
            "Non-trainable params: 0\n",
            "----------------------------------------------------------------\n",
            "Input size (MB): 0.00\n",
            "Forward/backward pass size (MB): 0.00\n",
            "Params size (MB): 0.23\n",
            "Estimated Total Size (MB): 0.23\n",
            "----------------------------------------------------------------\n",
            "Device Type: cuda\n"
          ],
          "name": "stdout"
        }
      ]
    },
    {
      "cell_type": "code",
      "metadata": {
        "id": "99Pyms_5rYtP",
        "colab_type": "code",
        "colab": {}
      },
      "source": [
        "torch.manual_seed(42)\n",
        "\n",
        "#input should be of the dimension - (batch_size, 1, n_rows*n_columns)\n",
        "x = torch.rand((10, 1, 1024), dtype=torch.float)\n",
        "y = torch.tensor((torch.rand(10, 1) < 0.5), dtype=torch.float)\n",
        "#y = torch.tensor([[0, 1, 2, 3, 4, 5, 6, 7, 8, 9]], dtype=torch.int64).reshape(-1, 1)"
      ],
      "execution_count": 22,
      "outputs": []
    },
    {
      "cell_type": "code",
      "metadata": {
        "id": "HSCwl4yqsPhw",
        "colab_type": "code",
        "colab": {
          "base_uri": "https://localhost:8080/",
          "height": 156
        },
        "outputId": "c12eadbe-2991-4142-998d-c0cb5c590a00"
      },
      "source": [
        "model.fit(x, y, 4)"
      ],
      "execution_count": 23,
      "outputs": [
        {
          "output_type": "stream",
          "text": [
            "Epoch 1/4\n",
            "10/10 [=========================] - 0s 4ms/step - loss: : 0.7035\n",
            "Epoch 2/4\n",
            "10/10 [=========================] - 0s 4ms/step - loss: : 0.5786\n",
            "Epoch 3/4\n",
            "10/10 [=========================] - 0s 4ms/step - loss: : 0.5123\n",
            "Epoch 4/4\n",
            "10/10 [=========================] - 0s 4ms/step - loss: : 0.4945\n"
          ],
          "name": "stdout"
        }
      ]
    },
    {
      "cell_type": "code",
      "metadata": {
        "id": "3oRV0zycttMR",
        "colab_type": "code",
        "colab": {
          "base_uri": "https://localhost:8080/",
          "height": 34
        },
        "outputId": "96da1f6d-2326-4856-8404-990892a5bfd5"
      },
      "source": [
        "model.evaluate(x, y)"
      ],
      "execution_count": 24,
      "outputs": [
        {
          "output_type": "stream",
          "text": [
            "10/10 [=========================] - 0s 2ms/step - loss: 0.2554 - acc: 0.1111    \n"
          ],
          "name": "stdout"
        }
      ]
    },
    {
      "cell_type": "markdown",
      "metadata": {
        "id": "qtA78EwuB_QB",
        "colab_type": "text"
      },
      "source": [
        "# CIFAR100"
      ]
    },
    {
      "cell_type": "code",
      "metadata": {
        "id": "hGCt0wTGCAjI",
        "colab_type": "code",
        "colab": {}
      },
      "source": [
        "import torch\n",
        "import torchvision\n",
        "from torchvision import transforms\n",
        "from torch.utils.data import DataLoader\n",
        "import torch.nn as nn\n",
        "import torch.optim as optim\n",
        "\n",
        "import numpy as np\n",
        "import matplotlib.pyplot as plt"
      ],
      "execution_count": 6,
      "outputs": []
    },
    {
      "cell_type": "code",
      "metadata": {
        "id": "R4jc8Zb5CE2Q",
        "colab_type": "code",
        "colab": {}
      },
      "source": [
        "bs = 128\n",
        "\n",
        "transform = transforms.Compose([transforms.Grayscale(num_output_channels=1),\n",
        "                                transforms.Resize((1, 28*28)),\n",
        "                                transforms.ToTensor()\n",
        "])\n",
        "\n",
        "trainset = torchvision.datasets.CIFAR100(root='./data', train=True, download=True, transform=transform)\n",
        "testset = torchvision.datasets.CIFAR100(root='./data', train=False, download=True, transform=transform)"
      ],
      "execution_count": null,
      "outputs": []
    },
    {
      "cell_type": "code",
      "metadata": {
        "id": "wFRZvUpvUQ1n",
        "colab_type": "code",
        "colab": {
          "base_uri": "https://localhost:8080/",
          "height": 34
        },
        "outputId": "d59f3f2e-ce1d-46c3-ee02-3c3d710444e3"
      },
      "source": [
        "#images for feeding fit_generator dense network \n",
        "#must be resized to (1, 1, height*width*channel)\n",
        "trainset[0][0].shape"
      ],
      "execution_count": 240,
      "outputs": [
        {
          "output_type": "execute_result",
          "data": {
            "text/plain": [
              "torch.Size([1, 1, 784])"
            ]
          },
          "metadata": {
            "tags": []
          },
          "execution_count": 240
        }
      ]
    },
    {
      "cell_type": "code",
      "metadata": {
        "id": "9hYwVNEsCJ7o",
        "colab_type": "code",
        "colab": {}
      },
      "source": [
        "trainloader = DataLoader(trainset, batch_size=bs, shuffle=True)\n",
        "testloader = DataLoader(testset, batch_size=bs)"
      ],
      "execution_count": 241,
      "outputs": []
    },
    {
      "cell_type": "code",
      "metadata": {
        "id": "vhQI6UtDE1DZ",
        "colab_type": "code",
        "colab": {
          "base_uri": "https://localhost:8080/",
          "height": 434
        },
        "outputId": "842c0ceb-2401-4bd9-f2a0-41b2d6ceb8f4"
      },
      "source": [
        "input = Input((1, 784))\n",
        "x = Dense(1000, nn.ReLU())(input)\n",
        "y = Dense(500, nn.ReLU())(x)\n",
        "z = Dense(700, activation=nn.ReLU())(y)\n",
        "a = Dense(200, activation=nn.ReLU())(z)\n",
        "b = Dense(100, activation=nn.ReLU())(a)\n",
        "\n",
        "model = Model(input, b, device)\n",
        "model.compile(optim.Adam(b.parameters(), lr=0.001), nn.CrossEntropyLoss(), 'accuracy')\n",
        "model.summary()"
      ],
      "execution_count": 243,
      "outputs": [
        {
          "output_type": "stream",
          "text": [
            "----------------------------------------------------------------\n",
            "        Layer (type)               Output Shape         Param #\n",
            "================================================================\n",
            "            Linear-1              [-1, 1, 1000]         785,000\n",
            "              ReLU-2              [-1, 1, 1000]               0\n",
            "            Linear-3               [-1, 1, 500]         500,500\n",
            "              ReLU-4               [-1, 1, 500]               0\n",
            "            Linear-5               [-1, 1, 700]         350,700\n",
            "              ReLU-6               [-1, 1, 700]               0\n",
            "            Linear-7               [-1, 1, 200]         140,200\n",
            "              ReLU-8               [-1, 1, 200]               0\n",
            "            Linear-9               [-1, 1, 100]          20,100\n",
            "             ReLU-10               [-1, 1, 100]               0\n",
            "================================================================\n",
            "Total params: 1,796,500\n",
            "Trainable params: 1,796,500\n",
            "Non-trainable params: 0\n",
            "----------------------------------------------------------------\n",
            "Input size (MB): 0.00\n",
            "Forward/backward pass size (MB): 0.04\n",
            "Params size (MB): 6.85\n",
            "Estimated Total Size (MB): 6.89\n",
            "----------------------------------------------------------------\n",
            "Device Type: cuda\n"
          ],
          "name": "stdout"
        }
      ]
    },
    {
      "cell_type": "code",
      "metadata": {
        "id": "Q2ahcZ9IDeEd",
        "colab_type": "code",
        "colab": {
          "base_uri": "https://localhost:8080/",
          "height": 121
        },
        "outputId": "5e42bbf5-1286-468a-b25b-115bf1553edd"
      },
      "source": [
        "model.fit_generator(trainloader, 3)"
      ],
      "execution_count": 244,
      "outputs": [
        {
          "output_type": "stream",
          "text": [
            "Epoch 1/3\n",
            "391/391 [=========================] - 23s 58ms/step - loss: : 4.5967\n",
            "Epoch 2/3\n",
            "391/391 [=========================] - 23s 60ms/step - loss: : 4.5859\n",
            "Epoch 3/3\n",
            "391/391 [=========================] - 22s 56ms/step - loss: : 4.5839\n"
          ],
          "name": "stdout"
        }
      ]
    },
    {
      "cell_type": "code",
      "metadata": {
        "id": "YIP9jwX1bsP2",
        "colab_type": "code",
        "colab": {
          "base_uri": "https://localhost:8080/",
          "height": 34
        },
        "outputId": "c25d7274-a1b6-4ff6-f3c0-84d33864d5e2"
      },
      "source": [
        "model.evaluate_generator(testloader)"
      ],
      "execution_count": 245,
      "outputs": [
        {
          "output_type": "stream",
          "text": [
            "79/79 [=========================] - 4s 51ms/step - test_acc: 1.6376 - test_loss: 2.3487\n"
          ],
          "name": "stdout"
        }
      ]
    },
    {
      "cell_type": "markdown",
      "metadata": {
        "id": "lXLnuHX4nxiT",
        "colab_type": "text"
      },
      "source": [
        "# CIFAR100 -Conv2d"
      ]
    },
    {
      "cell_type": "code",
      "metadata": {
        "id": "iGO2iw25nxNd",
        "colab_type": "code",
        "colab": {}
      },
      "source": [
        "bs = 128\n",
        "\n",
        "transform = transforms.ToTensor()\n",
        "\n",
        "trainset = torchvision.datasets.CIFAR100(root='./data', train=True, download=True, transform=transform)\n",
        "testset = torchvision.datasets.CIFAR100(root='./data', train=False, download=True, transform=transform)"
      ],
      "execution_count": null,
      "outputs": []
    },
    {
      "cell_type": "code",
      "metadata": {
        "id": "dtHxqh0qn8az",
        "colab_type": "code",
        "colab": {
          "base_uri": "https://localhost:8080/",
          "height": 34
        },
        "outputId": "0cbf4f9d-114d-4e4a-a507-20a688350ea7"
      },
      "source": [
        "trainset[0][0].shape"
      ],
      "execution_count": 247,
      "outputs": [
        {
          "output_type": "execute_result",
          "data": {
            "text/plain": [
              "torch.Size([3, 32, 32])"
            ]
          },
          "metadata": {
            "tags": []
          },
          "execution_count": 247
        }
      ]
    },
    {
      "cell_type": "code",
      "metadata": {
        "id": "SyZEIipnoFz9",
        "colab_type": "code",
        "colab": {}
      },
      "source": [
        "trainloader = DataLoader(trainset, batch_size=bs, shuffle=True)\n",
        "testloader = DataLoader(testset, batch_size=bs)"
      ],
      "execution_count": 248,
      "outputs": []
    },
    {
      "cell_type": "code",
      "metadata": {
        "id": "4pOi7FTboHRy",
        "colab_type": "code",
        "colab": {
          "base_uri": "https://localhost:8080/",
          "height": 416
        },
        "outputId": "3c075d7e-3dc0-4ed6-ca4a-d5d9779c4a3e"
      },
      "source": [
        "input = Input((3, 32, 32))\n",
        "x = Conv2d(3, 3, 1, 'valid', 1, nn.ReLU())(input)\n",
        "y = Conv2d(5, 3, 1, 'same', 1, nn.ReLU())(x)\n",
        "z = Conv2d(6, 3, 1, 'same', 1, nn.ReLU())(y)\n",
        "a = Flatten()(z)\n",
        "b = Dense(100, activation=nn.ReLU())(a)\n",
        "\n",
        "model = Model(input, b, device)\n",
        "model.compile(optim.Adam(b.parameters(), lr=0.001), nn.CrossEntropyLoss(), 'accuracy')\n",
        "model.summary()"
      ],
      "execution_count": 260,
      "outputs": [
        {
          "output_type": "stream",
          "text": [
            "----------------------------------------------------------------\n",
            "        Layer (type)               Output Shape         Param #\n",
            "================================================================\n",
            "            Conv2d-1            [-1, 3, 32, 32]              84\n",
            "              ReLU-2            [-1, 3, 32, 32]               0\n",
            "            Conv2d-3            [-1, 5, 32, 32]             140\n",
            "              ReLU-4            [-1, 5, 32, 32]               0\n",
            "            Conv2d-5            [-1, 6, 32, 32]             276\n",
            "              ReLU-6            [-1, 6, 32, 32]               0\n",
            "    FlattenedLayer-7                 [-1, 6144]               0\n",
            "            Linear-8                  [-1, 100]         614,500\n",
            "              ReLU-9                  [-1, 100]               0\n",
            "================================================================\n",
            "Total params: 615,000\n",
            "Trainable params: 615,000\n",
            "Non-trainable params: 0\n",
            "----------------------------------------------------------------\n",
            "Input size (MB): 0.01\n",
            "Forward/backward pass size (MB): 0.27\n",
            "Params size (MB): 2.35\n",
            "Estimated Total Size (MB): 2.62\n",
            "----------------------------------------------------------------\n",
            "Device Type: cuda\n"
          ],
          "name": "stdout"
        }
      ]
    },
    {
      "cell_type": "code",
      "metadata": {
        "id": "gd3SirTpo6Z1",
        "colab_type": "code",
        "colab": {
          "base_uri": "https://localhost:8080/",
          "height": 121
        },
        "outputId": "a64e6ee6-e6d8-43a8-fcc6-d97fe8ae14e2"
      },
      "source": [
        "model.fit_generator(trainloader, 3)"
      ],
      "execution_count": 252,
      "outputs": [
        {
          "output_type": "stream",
          "text": [
            "Epoch 1/3\n",
            "391/391 [=========================] - 14s 36ms/step - loss: : 4.6058\n",
            "Epoch 2/3\n",
            "391/391 [=========================] - 14s 36ms/step - loss: : 4.6052\n",
            "Epoch 3/3\n",
            "391/391 [=========================] - 14s 36ms/step - loss: : 4.6052\n"
          ],
          "name": "stdout"
        }
      ]
    },
    {
      "cell_type": "code",
      "metadata": {
        "id": "p2R5sVz1pHAS",
        "colab_type": "code",
        "colab": {
          "base_uri": "https://localhost:8080/",
          "height": 34
        },
        "outputId": "a1c58b73-88ea-4b44-da13-a71af82cc746"
      },
      "source": [
        "model.evaluate_generator(testloader)"
      ],
      "execution_count": 253,
      "outputs": [
        {
          "output_type": "stream",
          "text": [
            "79/79 [=========================] - 2s 26ms/step - test_acc: 0.6886 - test_loss: 2.3609\n"
          ],
          "name": "stdout"
        }
      ]
    },
    {
      "cell_type": "markdown",
      "metadata": {
        "colab_type": "text",
        "id": "7PqD8aKda0GR"
      },
      "source": [
        "# CIFAR10"
      ]
    },
    {
      "cell_type": "code",
      "metadata": {
        "colab_type": "code",
        "id": "RxbpAFqEa0Gv",
        "colab": {}
      },
      "source": [
        "bs = 64\n",
        "\n",
        "transform = transforms.Compose([transforms.Grayscale(num_output_channels=1),\n",
        "                                transforms.Resize((1, 28*28)),\n",
        "                                transforms.ToTensor()\n",
        "])\n",
        "\n",
        "trainset = torchvision.datasets.CIFAR10(root='./data', train=True, download=True, transform=transform)\n",
        "testset = torchvision.datasets.CIFAR10(root='./data', train=False, download=True, transform=transform)"
      ],
      "execution_count": null,
      "outputs": []
    },
    {
      "cell_type": "code",
      "metadata": {
        "colab_type": "code",
        "id": "ZnANxHHFa0HF",
        "colab": {
          "base_uri": "https://localhost:8080/",
          "height": 34
        },
        "outputId": "20237965-65b3-499c-b33c-bf99d37cd9a8"
      },
      "source": [
        "#images for feeding fit_generator dense network \n",
        "#must be of the form (1, 1, height*width*channel)\n",
        "trainset[0][0].shape"
      ],
      "execution_count": 262,
      "outputs": [
        {
          "output_type": "execute_result",
          "data": {
            "text/plain": [
              "torch.Size([1, 1, 784])"
            ]
          },
          "metadata": {
            "tags": []
          },
          "execution_count": 262
        }
      ]
    },
    {
      "cell_type": "code",
      "metadata": {
        "colab_type": "code",
        "id": "B_ywq52Ba0HR",
        "colab": {}
      },
      "source": [
        "trainloader = DataLoader(trainset, batch_size=bs, shuffle=True)\n",
        "testloader = DataLoader(testset, batch_size=bs)"
      ],
      "execution_count": 263,
      "outputs": []
    },
    {
      "cell_type": "code",
      "metadata": {
        "colab_type": "code",
        "id": "jSO7gtHea0Hb",
        "colab": {
          "base_uri": "https://localhost:8080/",
          "height": 434
        },
        "outputId": "70c49059-9ebb-4c00-ac25-5f070201b121"
      },
      "source": [
        "input = Input(shape=(1, 784))\n",
        "x = Dense(1024, nn.ReLU())(input)\n",
        "y = Dense(800, nn.ReLU())(x)\n",
        "z = Dense(300, activation=nn.ReLU())(y)\n",
        "a = Dense(200, activation=nn.ReLU())(z)\n",
        "b = Dense(10, activation=nn.ReLU())(a)\n",
        "\n",
        "model = Model(input, b, 'cuda')\n",
        "model.compile(optim.Adam(b.parameters(), lr=0.001), nn.CrossEntropyLoss(), 'accuracy')\n",
        "model.summary()"
      ],
      "execution_count": 265,
      "outputs": [
        {
          "output_type": "stream",
          "text": [
            "----------------------------------------------------------------\n",
            "        Layer (type)               Output Shape         Param #\n",
            "================================================================\n",
            "            Linear-1              [-1, 1, 1024]         803,840\n",
            "              ReLU-2              [-1, 1, 1024]               0\n",
            "            Linear-3               [-1, 1, 800]         820,000\n",
            "              ReLU-4               [-1, 1, 800]               0\n",
            "            Linear-5               [-1, 1, 300]         240,300\n",
            "              ReLU-6               [-1, 1, 300]               0\n",
            "            Linear-7               [-1, 1, 200]          60,200\n",
            "              ReLU-8               [-1, 1, 200]               0\n",
            "            Linear-9                [-1, 1, 10]           2,010\n",
            "             ReLU-10                [-1, 1, 10]               0\n",
            "================================================================\n",
            "Total params: 1,926,350\n",
            "Trainable params: 1,926,350\n",
            "Non-trainable params: 0\n",
            "----------------------------------------------------------------\n",
            "Input size (MB): 0.00\n",
            "Forward/backward pass size (MB): 0.04\n",
            "Params size (MB): 7.35\n",
            "Estimated Total Size (MB): 7.39\n",
            "----------------------------------------------------------------\n",
            "Device Type: cuda\n"
          ],
          "name": "stdout"
        }
      ]
    },
    {
      "cell_type": "code",
      "metadata": {
        "colab_type": "code",
        "id": "fIfJtFala0Hm",
        "colab": {
          "base_uri": "https://localhost:8080/",
          "height": 121
        },
        "outputId": "125a495a-3bce-4078-f2c7-f51314ccff9c"
      },
      "source": [
        "model.fit_generator(trainloader, 3)"
      ],
      "execution_count": 266,
      "outputs": [
        {
          "output_type": "stream",
          "text": [
            "Epoch 1/3\n",
            "782/782 [=========================] - 23s 29ms/step - loss: : 2.3026\n",
            "Epoch 2/3\n",
            "782/782 [=========================] - 23s 29ms/step - loss: : 2.3026\n",
            "Epoch 3/3\n",
            "782/782 [=========================] - 23s 30ms/step - loss: : 2.3026\n"
          ],
          "name": "stdout"
        }
      ]
    },
    {
      "cell_type": "code",
      "metadata": {
        "colab_type": "code",
        "id": "Yo1h0ywGa0Hx",
        "colab": {
          "base_uri": "https://localhost:8080/",
          "height": 34
        },
        "outputId": "742aba8c-15e3-4bf3-8b97-26eadb63808b"
      },
      "source": [
        "model.evaluate_generator(testloader)"
      ],
      "execution_count": 267,
      "outputs": [
        {
          "output_type": "stream",
          "text": [
            "157/157 [=========================] - 4s 26ms/step - test_acc: 3.2235 - test_loss: 1.1660\n"
          ],
          "name": "stdout"
        }
      ]
    },
    {
      "cell_type": "markdown",
      "metadata": {
        "colab_type": "text",
        "id": "oy1zHKBmqO0m"
      },
      "source": [
        "# CIFAR10 -Conv2d"
      ]
    },
    {
      "cell_type": "code",
      "metadata": {
        "colab_type": "code",
        "id": "A6RU5p21qO00",
        "colab": {}
      },
      "source": [
        "bs = 64\n",
        "\n",
        "transform = transforms.ToTensor()\n",
        "\n",
        "trainset = torchvision.datasets.CIFAR10(root='./data', train=True, download=True, transform=transform)\n",
        "testset = torchvision.datasets.CIFAR10(root='./data', train=False, download=True, transform=transform)"
      ],
      "execution_count": null,
      "outputs": []
    },
    {
      "cell_type": "code",
      "metadata": {
        "colab_type": "code",
        "id": "7n9mt120qO1N",
        "colab": {
          "base_uri": "https://localhost:8080/",
          "height": 34
        },
        "outputId": "4402cade-9821-433b-b296-0ecde797ed43"
      },
      "source": [
        "#images for feeding fit_generator dense network \n",
        "#must be of the form (1, 1, height*width*channel)\n",
        "trainset[0][0].shape"
      ],
      "execution_count": 269,
      "outputs": [
        {
          "output_type": "execute_result",
          "data": {
            "text/plain": [
              "torch.Size([3, 32, 32])"
            ]
          },
          "metadata": {
            "tags": []
          },
          "execution_count": 269
        }
      ]
    },
    {
      "cell_type": "code",
      "metadata": {
        "colab_type": "code",
        "id": "ORhwioJ_qO1e",
        "colab": {}
      },
      "source": [
        "trainloader = DataLoader(trainset, batch_size=bs, shuffle=True)\n",
        "testloader = DataLoader(testset, batch_size=bs)"
      ],
      "execution_count": 270,
      "outputs": []
    },
    {
      "cell_type": "code",
      "metadata": {
        "colab_type": "code",
        "id": "ph8a0VdpqO1s",
        "colab": {
          "base_uri": "https://localhost:8080/",
          "height": 416
        },
        "outputId": "23386733-83b6-41e6-ae40-6b6198837182"
      },
      "source": [
        "input = Input(shape=(3, 32, 32))\n",
        "x = Conv2d(7, 3, 1, 'same', 1, nn.ReLU())(input)\n",
        "y = Conv2d(10, 3, 1, 'same', 1, nn.ReLU())(x)\n",
        "z = Conv2d(6, 3, 1, 'same', 1, nn.ReLU())(y)\n",
        "a = Flatten()(z)\n",
        "b = Dense(10, activation=nn.ReLU())(a)\n",
        "\n",
        "model = Model(input, b, 'cuda')\n",
        "model.compile(optim.Adam(b.parameters(), lr=0.001), nn.CrossEntropyLoss(), 'accuracy')\n",
        "model.summary()"
      ],
      "execution_count": 272,
      "outputs": [
        {
          "output_type": "stream",
          "text": [
            "----------------------------------------------------------------\n",
            "        Layer (type)               Output Shape         Param #\n",
            "================================================================\n",
            "            Conv2d-1            [-1, 7, 32, 32]             196\n",
            "              ReLU-2            [-1, 7, 32, 32]               0\n",
            "            Conv2d-3           [-1, 10, 32, 32]             640\n",
            "              ReLU-4           [-1, 10, 32, 32]               0\n",
            "            Conv2d-5            [-1, 6, 32, 32]             546\n",
            "              ReLU-6            [-1, 6, 32, 32]               0\n",
            "    FlattenedLayer-7                 [-1, 6144]               0\n",
            "            Linear-8                   [-1, 10]          61,450\n",
            "              ReLU-9                   [-1, 10]               0\n",
            "================================================================\n",
            "Total params: 62,832\n",
            "Trainable params: 62,832\n",
            "Non-trainable params: 0\n",
            "----------------------------------------------------------------\n",
            "Input size (MB): 0.01\n",
            "Forward/backward pass size (MB): 0.41\n",
            "Params size (MB): 0.24\n",
            "Estimated Total Size (MB): 0.66\n",
            "----------------------------------------------------------------\n",
            "Device Type: cuda\n"
          ],
          "name": "stdout"
        }
      ]
    },
    {
      "cell_type": "code",
      "metadata": {
        "colab_type": "code",
        "id": "eBykn4s6qO14",
        "colab": {
          "base_uri": "https://localhost:8080/",
          "height": 121
        },
        "outputId": "7ec5e3b6-7110-4681-f1fb-2567ce7d3a3b"
      },
      "source": [
        "model.fit_generator(trainloader, 3)"
      ],
      "execution_count": 273,
      "outputs": [
        {
          "output_type": "stream",
          "text": [
            "Epoch 1/3\n",
            "782/782 [=========================] - 19s 24ms/step - loss: : 2.2478\n",
            "Epoch 2/3\n",
            "782/782 [=========================] - 19s 24ms/step - loss: : 2.2244\n",
            "Epoch 3/3\n",
            "782/782 [=========================] - 19s 24ms/step - loss: : 2.2112\n"
          ],
          "name": "stdout"
        }
      ]
    },
    {
      "cell_type": "code",
      "metadata": {
        "colab_type": "code",
        "id": "RdF15rBJqO2E",
        "colab": {
          "base_uri": "https://localhost:8080/",
          "height": 34
        },
        "outputId": "f75098cc-8744-42f2-8c74-33beac114182"
      },
      "source": [
        "model.evaluate_generator(testloader)"
      ],
      "execution_count": 285,
      "outputs": [
        {
          "output_type": "stream",
          "text": [
            "313/313 [=========================] - 4s 12ms/step - test_acc: 9.2505 - test_loss: 0.6752\n"
          ],
          "name": "stdout"
        }
      ]
    },
    {
      "cell_type": "markdown",
      "metadata": {
        "colab_type": "text",
        "id": "wlI2RCv5bI0g"
      },
      "source": [
        "# MNIST"
      ]
    },
    {
      "cell_type": "code",
      "metadata": {
        "colab_type": "code",
        "id": "fN8MtErvbI1E",
        "colab": {}
      },
      "source": [
        "bs = 32\n",
        "\n",
        "transform = transforms.Compose([\n",
        "                                transforms.Resize((1, 28*28)),\n",
        "                                transforms.ToTensor()\n",
        "])\n",
        "\n",
        "trainset = torchvision.datasets.MNIST(root='./data', train=True, download=True, transform=transform)\n",
        "testset = torchvision.datasets.MNIST(root='./data', train=False, download=True, transform=transform)"
      ],
      "execution_count": 7,
      "outputs": []
    },
    {
      "cell_type": "code",
      "metadata": {
        "colab_type": "code",
        "id": "Sw437nMwbI1V",
        "colab": {
          "base_uri": "https://localhost:8080/",
          "height": 34
        },
        "outputId": "32252193-9ddd-4426-ef95-8d4c6f02e89c"
      },
      "source": [
        "#images for feeding fit_generator dense network \n",
        "#must be of the form (1, 1, height*width*channel)\n",
        "trainset[0][0].shape"
      ],
      "execution_count": 8,
      "outputs": [
        {
          "output_type": "execute_result",
          "data": {
            "text/plain": [
              "torch.Size([1, 1, 784])"
            ]
          },
          "metadata": {
            "tags": []
          },
          "execution_count": 8
        }
      ]
    },
    {
      "cell_type": "code",
      "metadata": {
        "colab_type": "code",
        "id": "zslLOsG3bI1j",
        "colab": {}
      },
      "source": [
        "trainloader = DataLoader(trainset, batch_size=bs, shuffle=True)\n",
        "testloader = DataLoader(testset, batch_size=bs)"
      ],
      "execution_count": 9,
      "outputs": []
    },
    {
      "cell_type": "code",
      "metadata": {
        "colab_type": "code",
        "id": "p91ByqQ2bI1v",
        "colab": {
          "base_uri": "https://localhost:8080/",
          "height": 434
        },
        "outputId": "8f8707f4-fca4-458a-840c-f76fc3ea3378"
      },
      "source": [
        "input = Input(shape=(1, 784))\n",
        "x = Dense(700, nn.ReLU())(input)\n",
        "y = Dense(200, nn.ReLU())(x)\n",
        "z = Dense(300, activation=nn.ReLU())(y)\n",
        "a = Dense(100, activation=nn.ReLU())(z)\n",
        "b = Dense(10, activation=nn.ReLU())(a)\n",
        "\n",
        "model = Model(input, b, 'cuda')\n",
        "model.compile(optim.Adam(b.parameters(), lr=0.001), nn.CrossEntropyLoss(), 'accuracy')\n",
        "model.summary()"
      ],
      "execution_count": 10,
      "outputs": [
        {
          "output_type": "stream",
          "text": [
            "----------------------------------------------------------------\n",
            "        Layer (type)               Output Shape         Param #\n",
            "================================================================\n",
            "            Linear-1               [-1, 1, 700]         549,500\n",
            "              ReLU-2               [-1, 1, 700]               0\n",
            "            Linear-3               [-1, 1, 200]         140,200\n",
            "              ReLU-4               [-1, 1, 200]               0\n",
            "            Linear-5               [-1, 1, 300]          60,300\n",
            "              ReLU-6               [-1, 1, 300]               0\n",
            "            Linear-7               [-1, 1, 100]          30,100\n",
            "              ReLU-8               [-1, 1, 100]               0\n",
            "            Linear-9                [-1, 1, 10]           1,010\n",
            "             ReLU-10                [-1, 1, 10]               0\n",
            "================================================================\n",
            "Total params: 781,110\n",
            "Trainable params: 781,110\n",
            "Non-trainable params: 0\n",
            "----------------------------------------------------------------\n",
            "Input size (MB): 0.00\n",
            "Forward/backward pass size (MB): 0.02\n",
            "Params size (MB): 2.98\n",
            "Estimated Total Size (MB): 3.00\n",
            "----------------------------------------------------------------\n",
            "Device Type: cuda\n"
          ],
          "name": "stdout"
        }
      ]
    },
    {
      "cell_type": "code",
      "metadata": {
        "colab_type": "code",
        "id": "G9dQdMOybI16",
        "colab": {
          "base_uri": "https://localhost:8080/",
          "height": 121
        },
        "outputId": "39036135-6993-4b6d-e369-370b8bc39f69"
      },
      "source": [
        "model.fit_generator(trainloader, 3)"
      ],
      "execution_count": 11,
      "outputs": [
        {
          "output_type": "stream",
          "text": [
            "Epoch 1/3\n",
            "1875/1875 [=========================] - 29s 16ms/step - loss: : 1.5704\n",
            "Epoch 2/3\n",
            "1875/1875 [=========================] - 30s 16ms/step - loss: : 1.3025\n",
            "Epoch 3/3\n",
            "1875/1875 [=========================] - 29s 16ms/step - loss: : 1.2149\n"
          ],
          "name": "stdout"
        }
      ]
    },
    {
      "cell_type": "code",
      "metadata": {
        "colab_type": "code",
        "id": "w4vo6b2YbI2E",
        "colab": {
          "base_uri": "https://localhost:8080/",
          "height": 34
        },
        "outputId": "0f2ddc22-4848-4bfa-d13a-a9766bb23e7d"
      },
      "source": [
        "model.evaluate_generator(testloader)"
      ],
      "execution_count": 12,
      "outputs": [
        {
          "output_type": "stream",
          "text": [
            "313/313 [=========================] - 4s 12ms/step - test_acc: 9.8366 - test_loss: 0.5850\n"
          ],
          "name": "stdout"
        }
      ]
    },
    {
      "cell_type": "markdown",
      "metadata": {
        "colab_type": "text",
        "id": "hRBTwshsrjrz"
      },
      "source": [
        "# MNIST -Conv2d"
      ]
    },
    {
      "cell_type": "code",
      "metadata": {
        "colab_type": "code",
        "id": "jJ_fr5k6rjr6",
        "colab": {}
      },
      "source": [
        "bs = 32\n",
        "\n",
        "transform = transforms.ToTensor()\n",
        "\n",
        "trainset = torchvision.datasets.MNIST(root='./data', train=True, download=True, transform=transform)\n",
        "testset = torchvision.datasets.MNIST(root='./data', train=False, download=True, transform=transform)"
      ],
      "execution_count": 13,
      "outputs": []
    },
    {
      "cell_type": "code",
      "metadata": {
        "colab_type": "code",
        "id": "thk7zRJvrjsK",
        "colab": {
          "base_uri": "https://localhost:8080/",
          "height": 34
        },
        "outputId": "1a035d02-f085-4490-dab3-35a0d97f47d4"
      },
      "source": [
        "#images for feeding fit_generator dense network \n",
        "#must be of the form (1, 1, height*width*channel)\n",
        "trainset[0][0].shape"
      ],
      "execution_count": 14,
      "outputs": [
        {
          "output_type": "execute_result",
          "data": {
            "text/plain": [
              "torch.Size([1, 28, 28])"
            ]
          },
          "metadata": {
            "tags": []
          },
          "execution_count": 14
        }
      ]
    },
    {
      "cell_type": "code",
      "metadata": {
        "colab_type": "code",
        "id": "gx0sJBazrjsd",
        "colab": {}
      },
      "source": [
        "trainloader = DataLoader(trainset, batch_size=bs, shuffle=True)\n",
        "testloader = DataLoader(testset, batch_size=bs)"
      ],
      "execution_count": 15,
      "outputs": []
    },
    {
      "cell_type": "code",
      "metadata": {
        "colab_type": "code",
        "id": "m8_dpt0irjsq",
        "colab": {
          "base_uri": "https://localhost:8080/",
          "height": 451
        },
        "outputId": "1dd7fc5a-6c31-4bd8-e107-a3e5da5bf350"
      },
      "source": [
        "input = Input(shape=(1, 28, 28))\n",
        "x = Conv2d(25, 3, 1, 'same', 1, nn.ReLU())(input)\n",
        "y = Conv2d(50, 3, 1, 'same',1 , nn.ReLU())(x)\n",
        "y = Conv2d(20, 3, 1, 'same', 1, nn.ReLU())(y)\n",
        "z = Flatten()(y)\n",
        "a = Dense(100, activation=nn.ReLU())(z)\n",
        "b = Dense(10, activation=nn.ReLU())(a)\n",
        "\n",
        "model = Model(input, b, 'cuda')\n",
        "model.compile(optim.Adam(b.parameters(), lr=0.001), nn.CrossEntropyLoss(), 'accuracy')\n",
        "model.summary()"
      ],
      "execution_count": 16,
      "outputs": [
        {
          "output_type": "stream",
          "text": [
            "----------------------------------------------------------------\n",
            "        Layer (type)               Output Shape         Param #\n",
            "================================================================\n",
            "            Conv2d-1           [-1, 25, 28, 28]             250\n",
            "              ReLU-2           [-1, 25, 28, 28]               0\n",
            "            Conv2d-3           [-1, 50, 28, 28]          11,300\n",
            "              ReLU-4           [-1, 50, 28, 28]               0\n",
            "            Conv2d-5           [-1, 20, 28, 28]           9,020\n",
            "              ReLU-6           [-1, 20, 28, 28]               0\n",
            "    FlattenedLayer-7                [-1, 15680]               0\n",
            "            Linear-8                  [-1, 100]       1,568,100\n",
            "              ReLU-9                  [-1, 100]               0\n",
            "           Linear-10                   [-1, 10]           1,010\n",
            "             ReLU-11                   [-1, 10]               0\n",
            "================================================================\n",
            "Total params: 1,589,680\n",
            "Trainable params: 1,589,680\n",
            "Non-trainable params: 0\n",
            "----------------------------------------------------------------\n",
            "Input size (MB): 0.00\n",
            "Forward/backward pass size (MB): 1.26\n",
            "Params size (MB): 6.06\n",
            "Estimated Total Size (MB): 7.32\n",
            "----------------------------------------------------------------\n",
            "Device Type: cuda\n"
          ],
          "name": "stdout"
        }
      ]
    },
    {
      "cell_type": "code",
      "metadata": {
        "colab_type": "code",
        "id": "kxJm65blrjs1",
        "colab": {
          "base_uri": "https://localhost:8080/",
          "height": 121
        },
        "outputId": "43dc193c-4a37-4aa3-b4fc-aa75a3ad23ac"
      },
      "source": [
        "model.fit_generator(trainloader, 3)"
      ],
      "execution_count": 17,
      "outputs": [
        {
          "output_type": "stream",
          "text": [
            "Epoch 1/3\n",
            "1875/1875 [=========================] - 37s 20ms/step - loss: : 1.3370\n",
            "Epoch 2/3\n",
            "1875/1875 [=========================] - 37s 20ms/step - loss: : 1.1694\n",
            "Epoch 3/3\n",
            "1875/1875 [=========================] - 37s 20ms/step - loss: : 1.1579\n"
          ],
          "name": "stdout"
        }
      ]
    },
    {
      "cell_type": "code",
      "metadata": {
        "colab_type": "code",
        "id": "G1DHE6hWrjtD",
        "colab": {
          "base_uri": "https://localhost:8080/",
          "height": 34
        },
        "outputId": "2a39cd03-4c6c-454f-d0f8-10d62462b018"
      },
      "source": [
        "model.evaluate_generator(testloader)"
      ],
      "execution_count": 18,
      "outputs": [
        {
          "output_type": "stream",
          "text": [
            "313/313 [=========================] - 3s 10ms/step - test_acc: 9.5865 - test_loss: 0.5855\n"
          ],
          "name": "stdout"
        }
      ]
    },
    {
      "cell_type": "code",
      "metadata": {
        "id": "hx1DCH1NvV1J",
        "colab_type": "code",
        "colab": {}
      },
      "source": [
        "x = model.predict_generator(testloader)"
      ],
      "execution_count": 19,
      "outputs": []
    },
    {
      "cell_type": "code",
      "metadata": {
        "id": "QhLaRtBFFkoz",
        "colab_type": "code",
        "colab": {
          "base_uri": "https://localhost:8080/",
          "height": 52
        },
        "outputId": "836969dd-01fb-40b0-c1b9-9bf1d850643d"
      },
      "source": [
        "torch.max(x[0], 1)[1]"
      ],
      "execution_count": 33,
      "outputs": [
        {
          "output_type": "execute_result",
          "data": {
            "text/plain": [
              "tensor([0, 0, 1, 0, 4, 1, 4, 0, 0, 0, 0, 6, 0, 0, 1, 0, 0, 0, 3, 4, 0, 6, 6, 0,\n",
              "        4, 0, 0, 4, 0, 1, 3, 1], device='cuda:0')"
            ]
          },
          "metadata": {
            "tags": []
          },
          "execution_count": 33
        }
      ]
    },
    {
      "cell_type": "code",
      "metadata": {
        "id": "EsS7YY5IyqZ8",
        "colab_type": "code",
        "colab": {
          "base_uri": "https://localhost:8080/",
          "height": 573
        },
        "outputId": "18d05ba8-1466-4d66-85c3-c543e423fe0a"
      },
      "source": [
        "for i in range(32):\n",
        "  print(testloader.dataset[i][1])"
      ],
      "execution_count": 38,
      "outputs": [
        {
          "output_type": "stream",
          "text": [
            "7\n",
            "2\n",
            "1\n",
            "0\n",
            "4\n",
            "1\n",
            "4\n",
            "9\n",
            "5\n",
            "9\n",
            "0\n",
            "6\n",
            "9\n",
            "0\n",
            "1\n",
            "5\n",
            "9\n",
            "7\n",
            "3\n",
            "4\n",
            "9\n",
            "6\n",
            "6\n",
            "5\n",
            "4\n",
            "0\n",
            "7\n",
            "4\n",
            "0\n",
            "1\n",
            "3\n",
            "1\n"
          ],
          "name": "stdout"
        }
      ]
    },
    {
      "cell_type": "code",
      "metadata": {
        "id": "cQ0Yibqh4Ttt",
        "colab_type": "code",
        "colab": {}
      },
      "source": [
        ""
      ],
      "execution_count": null,
      "outputs": []
    }
  ]
}