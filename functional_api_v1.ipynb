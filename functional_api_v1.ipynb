{
  "nbformat": 4,
  "nbformat_minor": 0,
  "metadata": {
    "colab": {
      "name": "functional_api_v1.ipynb",
      "provenance": [],
      "collapsed_sections": [],
      "authorship_tag": "ABX9TyNqFqVvpnIbAzJXmhP2Q9tZ",
      "include_colab_link": true
    },
    "kernelspec": {
      "name": "python3",
      "display_name": "Python 3"
    },
    "accelerator": "GPU"
  },
  "cells": [
    {
      "cell_type": "markdown",
      "metadata": {
        "id": "view-in-github",
        "colab_type": "text"
      },
      "source": [
        "<a href=\"https://colab.research.google.com/github/bipinKrishnan/torchkeras/blob/master/functional_api_v1.ipynb\" target=\"_parent\"><img src=\"https://colab.research.google.com/assets/colab-badge.svg\" alt=\"Open In Colab\"/></a>"
      ]
    },
    {
      "cell_type": "code",
      "metadata": {
        "id": "sTRyumaWcSwb",
        "colab_type": "code",
        "colab": {}
      },
      "source": [
        "!pip install pkbar"
      ],
      "execution_count": null,
      "outputs": []
    },
    {
      "cell_type": "code",
      "metadata": {
        "id": "MvXU9sLe_shh",
        "colab_type": "code",
        "colab": {
          "base_uri": "https://localhost:8080/",
          "height": 34
        },
        "outputId": "4a1973a2-8b2e-433d-c660-74c681cce08b"
      },
      "source": [
        "l = nn.Conv2d(3, 5, 5)\n",
        "x = torch.randn((2, 3, 28, 28))\n",
        "same_pad(get_conv_output((3, 28, 28), l), 5, 1, 1)"
      ],
      "execution_count": 12,
      "outputs": [
        {
          "output_type": "execute_result",
          "data": {
            "text/plain": [
              "2.0"
            ]
          },
          "metadata": {
            "tags": []
          },
          "execution_count": 12
        }
      ]
    },
    {
      "cell_type": "code",
      "metadata": {
        "id": "Q-oEWtsIX6Xz",
        "colab_type": "code",
        "colab": {}
      },
      "source": [
        "import torch\n",
        "from torch import nn\n",
        "from torch import optim\n",
        "from torch.autograd import Variable\n",
        "from torchsummary import summary as summary_\n",
        "import pkbar\n",
        "\n",
        "import warnings\n",
        "warnings.filterwarnings('ignore')"
      ],
      "execution_count": 2,
      "outputs": []
    },
    {
      "cell_type": "markdown",
      "metadata": {
        "id": "VCugQ8DJae0g",
        "colab_type": "text"
      },
      "source": [
        "# TorchKeras"
      ]
    },
    {
      "cell_type": "code",
      "metadata": {
        "id": "_h4x_jTPpIfL",
        "colab_type": "code",
        "colab": {}
      },
      "source": [
        "def Input(shape):\n",
        "  Input.shape = shape\n",
        "  return Input.shape\n",
        "\n",
        "def get_conv_output(shape, inputs):\n",
        "  bs = 1\n",
        "  data = Variable(torch.rand(bs, *shape))\n",
        "  output_feat = inputs(data)\n",
        "\n",
        "  return output_feat.size(1)\n",
        "\n",
        "def same_pad(h_in, kernal, stride, dilation):\n",
        "  return (stride*(h_in-1)-h_in+(dilation*(kernal-1))+1) / 2.0"
      ],
      "execution_count": 3,
      "outputs": []
    },
    {
      "cell_type": "code",
      "metadata": {
        "id": "-JJKHynxYHIj",
        "colab_type": "code",
        "colab": {}
      },
      "source": [
        "class Dense(nn.Module):\n",
        "  def __init__(self, outputs, activation):\n",
        "    super().__init__()\n",
        "    self.outputs = outputs\n",
        "    self.activation = activation\n",
        "\n",
        "  def __call__(self, inputs):\n",
        "    self.inputs_size = 1\n",
        "    \n",
        "    if type(inputs) == tuple:\n",
        "      for i in range(len(inputs)):\n",
        "        self.inputs_size *= inputs[i]\n",
        "      \n",
        "      self.layers = nn.Sequential(\n",
        "        nn.Linear(self.inputs_size, self.outputs),\n",
        "        self.activation\n",
        "    )\n",
        "\n",
        "      return self.layers\n",
        "\n",
        "    elif isinstance(inputs[-2], nn.Linear):\n",
        "      self.inputs = inputs\n",
        "      self.layers = list(self.inputs)\n",
        "      self.layers.extend([nn.Linear(self.layers[-2].out_features, self.outputs), self.activation])\n",
        "\n",
        "      self.layers = nn.Sequential(*self.layers)\n",
        "\n",
        "      return self.layers\n",
        "\n",
        "    else:\n",
        "      self.inputs = inputs\n",
        "      self.layers = list(self.inputs)\n",
        "      self.layers.extend([nn.Linear(get_conv_output(Input.shape, self.inputs), self.outputs), self.activation])\n",
        "\n",
        "      self.layers = nn.Sequential(*self.layers)\n",
        "\n",
        "      return self.layers\n",
        "\n",
        "\n",
        "class FlattenedLayer(nn.Module):\n",
        "  def __init__(self):\n",
        "    super().__init__()\n",
        "    pass\n",
        "\n",
        "  def forward(self, input):\n",
        "      self.inputs = input.view(input.size(0), -1)\n",
        "      return self.inputs\n",
        "\n",
        "\n",
        "class Flatten():\n",
        "  def __init__(self):\n",
        "    pass\n",
        "\n",
        "  def __call__(self, inputs):\n",
        "    self.inputs = inputs\n",
        "    self.layers = list(self.inputs)\n",
        "    self.layers.extend([FlattenedLayer()])\n",
        "    self.layers = nn.Sequential(*self.layers)\n",
        "\n",
        "    return self.layers"
      ],
      "execution_count": 25,
      "outputs": []
    },
    {
      "cell_type": "code",
      "metadata": {
        "id": "IALWgA3QwhtN",
        "colab_type": "code",
        "colab": {}
      },
      "source": [
        "class Conv2d(nn.Module):\n",
        "  def __init__(self, filters, kernel_size, strides, padding, dilation, activation):\n",
        "    super().__init__()\n",
        "    self.filters = filters\n",
        "    self.kernel = kernel_size\n",
        "    self.strides = strides\n",
        "    self.padding = padding\n",
        "    self.dilation = dilation\n",
        "    self.activation = activation\n",
        "\n",
        "  def __call__(self, inputs):\n",
        "\n",
        "    if type(inputs) == tuple:\n",
        "      self.inputs_size = inputs\n",
        "      self.layers = nn.Sequential(\n",
        "        nn.Conv2d(self.inputs_size[-3],\n",
        "                  self.filters, \n",
        "                  self.kernel, \n",
        "                  self.strides, \n",
        "                  self.dilation),\n",
        "        self.activation\n",
        "    )\n",
        "\n",
        "      return self.layers\n",
        "\n",
        "    else:\n",
        "      if self.padding == 'same':\n",
        "        self.padding = int(same_pad(get_conv_output(Input.shape, inputs), self.kernel, self.strides, self.dilation))\n",
        "      else:\n",
        "        self.padding = self.padding\n",
        "\n",
        "      self.inputs = inputs\n",
        "      self.layers = list(self.inputs)\n",
        "      self.layers.extend(\n",
        "             [nn.Conv2d(self.layers[-2].out_channels, \n",
        "                    self.filters, \n",
        "                    self.kernel, \n",
        "                    self.strides, \n",
        "                    self.padding,\n",
        "                    self.dilation),\n",
        "             self.activation]\n",
        "          )\n",
        "      self.layers = nn.Sequential(*self.layers)\n",
        "\n",
        "      return self.layers\n"
      ],
      "execution_count": 26,
      "outputs": []
    },
    {
      "cell_type": "code",
      "metadata": {
        "id": "XZ81UK7tegjA",
        "colab_type": "code",
        "colab": {}
      },
      "source": [
        "class Model():\n",
        "  def __init__(self, inputs, outputs, device):\n",
        "    self.input_size = inputs\n",
        "    self.device = device\n",
        "    self.model = outputs.to(self.device)\n",
        "\n",
        "  def parameters(self):\n",
        "    return self.model.parameters()\n",
        "\n",
        "  def compile(self, optimizer, loss, metrics):\n",
        "    self.opt = optimizer\n",
        "    self.criterion = loss\n",
        "    self.metrics = metrics\n",
        "\n",
        "  def summary(self):\n",
        "    summary_(self.model, self.input_size, device=self.device)\n",
        "    print(\"Device Type:\", self.device)\n",
        "\n",
        "  def fit(self, data_x, data_y, epochs):\n",
        "    self.model.train()\n",
        "\n",
        "    for epoch in range(epochs):\n",
        "      print(\"Epoch {}/{}\".format(epoch+1, epochs))\n",
        "      progress = pkbar.Kbar(target=len(data_x), width=25)\n",
        "      \n",
        "      for i, (data, target) in enumerate(zip(data_x, data_y)):\n",
        "        self.opt.zero_grad()\n",
        "\n",
        "        train_out = self.model(data.to(self.device))\n",
        "        loss = self.criterion(train_out, target.to(self.device))\n",
        "        loss.backward()\n",
        "\n",
        "        self.opt.step()\n",
        "\n",
        "        progress.update(i, values=[(\"loss: \", loss.item())])\n",
        "\n",
        "      progress.add(1)\n",
        "\n",
        "  def evaluate(self, test_x, test_y):\n",
        "    self.model.eval()\n",
        "    correct, loss = 0.0, 0.0\n",
        "\n",
        "    progress = pkbar.Kbar(target=len(test_x), width=25)\n",
        "\n",
        "    for i, (data, target) in enumerate(zip(test_x, test_y)):\n",
        "      out = self.model(data.to(self.device))\n",
        "      loss += self.criterion(out, target.to(self.device))\n",
        "\n",
        "      correct += ((torch.max(out, 1)[1]) == target.to(self.device)).sum()\n",
        "\n",
        "      progress.update(i, values=[(\"loss\", loss.item()/len(test_x)), (\"acc\", (correct/len(test_x)).item())])\n",
        "    progress.add(1)\n",
        "\n",
        "\n",
        "  def fit_generator(self, generator, epochs):\n",
        "    self.model.train()\n",
        "\n",
        "    for epoch in range(epochs):\n",
        "      print(\"Epoch {}/{}\".format(epoch+1, epochs))\n",
        "      progress = pkbar.Kbar(target=len(generator), width=25)\n",
        "\n",
        "      for i, (data, target) in enumerate(generator):\n",
        "        self.opt.zero_grad()\n",
        "\n",
        "        train_out = self.model(data.to(self.device))\n",
        "        loss = self.criterion(train_out.squeeze(), target.to(self.device))\n",
        "        loss.backward()\n",
        "\n",
        "        self.opt.step()\n",
        "\n",
        "        progress.update(i, values=[(\"loss: \", loss.item())])\n",
        "\n",
        "      progress.add(1)\n",
        "      \n",
        "\n",
        "  def evaluate_generator(self, generator):\n",
        "    self.model.eval()\n",
        "    correct, loss = 0.0, 0.0\n",
        "\n",
        "    progress = pkbar.Kbar(target=len(generator), width=25)\n",
        "\n",
        "    for i, (data, target) in enumerate(generator):\n",
        "      out = self.model(data.to(self.device))\n",
        "      loss += self.criterion(out.squeeze(), target.to(self.device))\n",
        "\n",
        "      correct += (torch.max(out.squeeze(), 1)[1] == target.to(self.device)).sum()\n",
        "\n",
        "      progress.update(i, values=[(\"test_acc\", (correct/len(generator)).item()), (\"test_loss\", loss.item()/len(generator))])\n",
        "\n",
        "    progress.add(1)\n",
        "\n",
        "  def predict_generator(self, generator):\n",
        "    self.model.train()\n",
        "    out = []\n",
        "    for i, (data, labels) in enumerate(generator):\n",
        "      out.append(self.model(data.to(self.device)))\n",
        "\n",
        "    return out\n",
        "      "
      ],
      "execution_count": 76,
      "outputs": []
    },
    {
      "cell_type": "code",
      "metadata": {
        "id": "_mLysY7oOLGS",
        "colab_type": "code",
        "colab": {
          "base_uri": "https://localhost:8080/",
          "height": 243
        },
        "outputId": "e5898d72-800b-4838-d64f-e5d2deff9475"
      },
      "source": [
        "inputs = Input((1, 300, 300))\n",
        "c1 = Conv2d(5, 3, 1, 3, 1, nn.ReLU())(inputs)\n",
        "c2 = Conv2d(10, 3, 1, 'same', 1, nn.ReLU())(c1)\n",
        "c3 = Conv2d(15, 5, 1, 0, 1, nn.ReLU())(c2)\n",
        "c4 = Flatten()(c3)\n",
        "c5 = Dense(46, nn.ReLU())(c4)\n",
        "c6 = Dense(43, nn.ReLU())(c5)\n",
        "c6\n",
        "#Dense(46, nn.ReLU())(c4)\n",
        "#c5(torch.rand(10, 3, 28, 28)).shape#, (c3(torch.rand(10, 4, 32, 32))).view(10, -1).shape"
      ],
      "execution_count": 77,
      "outputs": [
        {
          "output_type": "execute_result",
          "data": {
            "text/plain": [
              "Sequential(\n",
              "  (0): Conv2d(1, 5, kernel_size=(3, 3), stride=(1, 1), padding=(1, 1))\n",
              "  (1): ReLU()\n",
              "  (2): Conv2d(5, 10, kernel_size=(3, 3), stride=(1, 1), padding=(1, 1))\n",
              "  (3): ReLU()\n",
              "  (4): Conv2d(10, 15, kernel_size=(5, 5), stride=(1, 1))\n",
              "  (5): ReLU()\n",
              "  (6): FlattenedLayer()\n",
              "  (7): Linear(in_features=1314240, out_features=46, bias=True)\n",
              "  (8): ReLU()\n",
              "  (9): Linear(in_features=46, out_features=43, bias=True)\n",
              "  (10): ReLU()\n",
              ")"
            ]
          },
          "metadata": {
            "tags": []
          },
          "execution_count": 77
        }
      ]
    },
    {
      "cell_type": "code",
      "metadata": {
        "id": "u9TWCzyu50dE",
        "colab_type": "code",
        "colab": {
          "base_uri": "https://localhost:8080/",
          "height": 399
        },
        "outputId": "bb1de810-27ad-499a-bf1e-f3123180cbf2"
      },
      "source": [
        "summary_(c5, (1, 300, 300), device='cpu')"
      ],
      "execution_count": 78,
      "outputs": [
        {
          "output_type": "stream",
          "text": [
            "----------------------------------------------------------------\n",
            "        Layer (type)               Output Shape         Param #\n",
            "================================================================\n",
            "            Conv2d-1          [-1, 5, 300, 300]              50\n",
            "              ReLU-2          [-1, 5, 300, 300]               0\n",
            "            Conv2d-3         [-1, 10, 300, 300]             460\n",
            "              ReLU-4         [-1, 10, 300, 300]               0\n",
            "            Conv2d-5         [-1, 15, 296, 296]           3,765\n",
            "              ReLU-6         [-1, 15, 296, 296]               0\n",
            "    FlattenedLayer-7              [-1, 1314240]               0\n",
            "            Linear-8                   [-1, 46]      60,455,086\n",
            "              ReLU-9                   [-1, 46]               0\n",
            "================================================================\n",
            "Total params: 60,459,361\n",
            "Trainable params: 60,459,361\n",
            "Non-trainable params: 0\n",
            "----------------------------------------------------------------\n",
            "Input size (MB): 0.34\n",
            "Forward/backward pass size (MB): 50.68\n",
            "Params size (MB): 230.63\n",
            "Estimated Total Size (MB): 281.66\n",
            "----------------------------------------------------------------\n"
          ],
          "name": "stdout"
        }
      ]
    },
    {
      "cell_type": "markdown",
      "metadata": {
        "id": "YxitfcXJOQ1R",
        "colab_type": "text"
      },
      "source": [
        "Fit\n",
        "--------\n",
        "(bs, 1, n_row×n_col) --> Tabular\n",
        "(bs, 1, row×col×channels) --> Images\n",
        "\n",
        "Fit Generator\n",
        "----------------\n",
        "(bs, 1, row×col×channels) "
      ]
    },
    {
      "cell_type": "markdown",
      "metadata": {
        "id": "N21QvHSGaZ3L",
        "colab_type": "text"
      },
      "source": [
        "# Test data"
      ]
    },
    {
      "cell_type": "code",
      "metadata": {
        "id": "Otnl-l-iZJJO",
        "colab_type": "code",
        "colab": {}
      },
      "source": [
        "device = 'cuda' if torch.cuda.is_available() else 'cpu'\n",
        "\n",
        "inputs = Input((1, 1024))\n",
        "x = Dense(54, nn.ReLU())(inputs)\n",
        "y = Dense(34, nn.ReLU())(x)\n",
        "z = Dense(43, activation=nn.ReLU())(y)\n",
        "a = Dense(10, activation=nn.ReLU())(z)\n",
        "b = Dense(1, activation=nn.Sigmoid())(a)"
      ],
      "execution_count": 79,
      "outputs": []
    },
    {
      "cell_type": "code",
      "metadata": {
        "id": "SKHqRcKYeLPI",
        "colab_type": "code",
        "colab": {}
      },
      "source": [
        "model = Model(inputs, b, 'cuda')\n",
        "model.compile(optim.Adam(model.parameters(), lr=0.001), nn.BCELoss(), 'accuracy')"
      ],
      "execution_count": 80,
      "outputs": []
    },
    {
      "cell_type": "code",
      "metadata": {
        "id": "ajMFyfaGyrGJ",
        "colab_type": "code",
        "colab": {
          "base_uri": "https://localhost:8080/",
          "height": 434
        },
        "outputId": "6c8860d2-d5a5-4eaa-8008-1ad42b7b4970"
      },
      "source": [
        "model.summary()"
      ],
      "execution_count": 81,
      "outputs": [
        {
          "output_type": "stream",
          "text": [
            "----------------------------------------------------------------\n",
            "        Layer (type)               Output Shape         Param #\n",
            "================================================================\n",
            "            Linear-1                [-1, 1, 54]          55,350\n",
            "              ReLU-2                [-1, 1, 54]               0\n",
            "            Linear-3                [-1, 1, 34]           1,870\n",
            "              ReLU-4                [-1, 1, 34]               0\n",
            "            Linear-5                [-1, 1, 43]           1,505\n",
            "              ReLU-6                [-1, 1, 43]               0\n",
            "            Linear-7                [-1, 1, 10]             440\n",
            "              ReLU-8                [-1, 1, 10]               0\n",
            "            Linear-9                 [-1, 1, 1]              11\n",
            "          Sigmoid-10                 [-1, 1, 1]               0\n",
            "================================================================\n",
            "Total params: 59,176\n",
            "Trainable params: 59,176\n",
            "Non-trainable params: 0\n",
            "----------------------------------------------------------------\n",
            "Input size (MB): 0.00\n",
            "Forward/backward pass size (MB): 0.00\n",
            "Params size (MB): 0.23\n",
            "Estimated Total Size (MB): 0.23\n",
            "----------------------------------------------------------------\n",
            "Device Type: cuda\n"
          ],
          "name": "stdout"
        }
      ]
    },
    {
      "cell_type": "code",
      "metadata": {
        "id": "99Pyms_5rYtP",
        "colab_type": "code",
        "colab": {}
      },
      "source": [
        "torch.manual_seed(42)\n",
        "\n",
        "#input should be of the dimension - (batch_size, 1, n_rows*n_columns)\n",
        "x = torch.rand((10, 1, 1024), dtype=torch.float)\n",
        "y = torch.tensor((torch.rand(10, 1) < 0.5), dtype=torch.float)\n",
        "#y = torch.tensor([[0, 1, 2, 3, 4, 5, 6, 7, 8, 9]], dtype=torch.int64).reshape(-1, 1)"
      ],
      "execution_count": 82,
      "outputs": []
    },
    {
      "cell_type": "code",
      "metadata": {
        "id": "HSCwl4yqsPhw",
        "colab_type": "code",
        "colab": {
          "base_uri": "https://localhost:8080/",
          "height": 156
        },
        "outputId": "e24032a1-9da1-4189-8750-16c476c8425c"
      },
      "source": [
        "model.fit(x, y, 4)"
      ],
      "execution_count": 83,
      "outputs": [
        {
          "output_type": "stream",
          "text": [
            "Epoch 1/4\n",
            "10/10 [=========================] - 0s 4ms/step - loss: : 0.6462\n",
            "Epoch 2/4\n",
            "10/10 [=========================] - 0s 4ms/step - loss: : 0.6216\n",
            "Epoch 3/4\n",
            "10/10 [=========================] - 0s 4ms/step - loss: : 0.6014\n",
            "Epoch 4/4\n",
            "10/10 [=========================] - 0s 5ms/step - loss: : 0.5702\n"
          ],
          "name": "stdout"
        }
      ]
    },
    {
      "cell_type": "code",
      "metadata": {
        "id": "3oRV0zycttMR",
        "colab_type": "code",
        "colab": {
          "base_uri": "https://localhost:8080/",
          "height": 34
        },
        "outputId": "c15fdc7e-1233-4ce7-8866-6029e92b243e"
      },
      "source": [
        "model.evaluate(x, y)"
      ],
      "execution_count": 84,
      "outputs": [
        {
          "output_type": "stream",
          "text": [
            "10/10 [=========================] - 0s 2ms/step - loss: 0.3129 - acc: 0.1111    \n"
          ],
          "name": "stdout"
        }
      ]
    },
    {
      "cell_type": "markdown",
      "metadata": {
        "id": "qtA78EwuB_QB",
        "colab_type": "text"
      },
      "source": [
        "# CIFAR100"
      ]
    },
    {
      "cell_type": "code",
      "metadata": {
        "id": "hGCt0wTGCAjI",
        "colab_type": "code",
        "colab": {}
      },
      "source": [
        "import torch\n",
        "import torchvision\n",
        "from torchvision import transforms\n",
        "from torch.utils.data import DataLoader\n",
        "import torch.nn as nn\n",
        "import torch.optim as optim\n",
        "\n",
        "import numpy as np\n",
        "import matplotlib.pyplot as plt"
      ],
      "execution_count": 85,
      "outputs": []
    },
    {
      "cell_type": "code",
      "metadata": {
        "id": "R4jc8Zb5CE2Q",
        "colab_type": "code",
        "colab": {}
      },
      "source": [
        "bs = 128\n",
        "\n",
        "transform = transforms.Compose([transforms.Grayscale(num_output_channels=1),\n",
        "                                transforms.Resize((1, 28*28)),\n",
        "                                transforms.ToTensor()\n",
        "])\n",
        "\n",
        "trainset = torchvision.datasets.CIFAR100(root='./data', train=True, download=True, transform=transform)\n",
        "testset = torchvision.datasets.CIFAR100(root='./data', train=False, download=True, transform=transform)"
      ],
      "execution_count": null,
      "outputs": []
    },
    {
      "cell_type": "code",
      "metadata": {
        "id": "wFRZvUpvUQ1n",
        "colab_type": "code",
        "colab": {
          "base_uri": "https://localhost:8080/",
          "height": 34
        },
        "outputId": "5842be09-6949-4e8e-9452-ae201f7f5ba9"
      },
      "source": [
        "#images for feeding fit_generator dense network \n",
        "#must be resized to (1, 1, height*width*channel)\n",
        "trainset[0][0].shape"
      ],
      "execution_count": 87,
      "outputs": [
        {
          "output_type": "execute_result",
          "data": {
            "text/plain": [
              "torch.Size([1, 1, 784])"
            ]
          },
          "metadata": {
            "tags": []
          },
          "execution_count": 87
        }
      ]
    },
    {
      "cell_type": "code",
      "metadata": {
        "id": "9hYwVNEsCJ7o",
        "colab_type": "code",
        "colab": {}
      },
      "source": [
        "trainloader = DataLoader(trainset, batch_size=bs, shuffle=True)\n",
        "testloader = DataLoader(testset, batch_size=bs)"
      ],
      "execution_count": 88,
      "outputs": []
    },
    {
      "cell_type": "code",
      "metadata": {
        "id": "vhQI6UtDE1DZ",
        "colab_type": "code",
        "colab": {
          "base_uri": "https://localhost:8080/",
          "height": 434
        },
        "outputId": "a3a1fcd3-980a-4e9d-9204-a01f29900e4f"
      },
      "source": [
        "input = Input((1, 784))\n",
        "x = Dense(1000, nn.ReLU())(input)\n",
        "y = Dense(500, nn.ReLU())(x)\n",
        "z = Dense(700, activation=nn.ReLU())(y)\n",
        "a = Dense(200, activation=nn.ReLU())(z)\n",
        "b = Dense(100, activation=nn.ReLU())(a)\n",
        "\n",
        "model = Model(input, b, device)\n",
        "model.compile(optim.Adam(model.parameters(), lr=0.001), nn.CrossEntropyLoss(), 'accuracy')\n",
        "model.summary()"
      ],
      "execution_count": 89,
      "outputs": [
        {
          "output_type": "stream",
          "text": [
            "----------------------------------------------------------------\n",
            "        Layer (type)               Output Shape         Param #\n",
            "================================================================\n",
            "            Linear-1              [-1, 1, 1000]         785,000\n",
            "              ReLU-2              [-1, 1, 1000]               0\n",
            "            Linear-3               [-1, 1, 500]         500,500\n",
            "              ReLU-4               [-1, 1, 500]               0\n",
            "            Linear-5               [-1, 1, 700]         350,700\n",
            "              ReLU-6               [-1, 1, 700]               0\n",
            "            Linear-7               [-1, 1, 200]         140,200\n",
            "              ReLU-8               [-1, 1, 200]               0\n",
            "            Linear-9               [-1, 1, 100]          20,100\n",
            "             ReLU-10               [-1, 1, 100]               0\n",
            "================================================================\n",
            "Total params: 1,796,500\n",
            "Trainable params: 1,796,500\n",
            "Non-trainable params: 0\n",
            "----------------------------------------------------------------\n",
            "Input size (MB): 0.00\n",
            "Forward/backward pass size (MB): 0.04\n",
            "Params size (MB): 6.85\n",
            "Estimated Total Size (MB): 6.89\n",
            "----------------------------------------------------------------\n",
            "Device Type: cuda\n"
          ],
          "name": "stdout"
        }
      ]
    },
    {
      "cell_type": "code",
      "metadata": {
        "id": "Q2ahcZ9IDeEd",
        "colab_type": "code",
        "colab": {
          "base_uri": "https://localhost:8080/",
          "height": 121
        },
        "outputId": "6c025a52-f97e-4b80-d520-9507f0ad55a4"
      },
      "source": [
        "model.fit_generator(trainloader, 3)"
      ],
      "execution_count": 90,
      "outputs": [
        {
          "output_type": "stream",
          "text": [
            "Epoch 1/3\n",
            "391/391 [=========================] - 19s 48ms/step - loss: : 4.5967\n",
            "Epoch 2/3\n",
            "391/391 [=========================] - 19s 48ms/step - loss: : 4.5859\n",
            "Epoch 3/3\n",
            "391/391 [=========================] - 19s 47ms/step - loss: : 4.5839\n"
          ],
          "name": "stdout"
        }
      ]
    },
    {
      "cell_type": "code",
      "metadata": {
        "id": "YIP9jwX1bsP2",
        "colab_type": "code",
        "colab": {
          "base_uri": "https://localhost:8080/",
          "height": 34
        },
        "outputId": "31be49ca-a92b-4880-81f8-d0d64f1e7e9f"
      },
      "source": [
        "model.evaluate_generator(testloader)"
      ],
      "execution_count": 91,
      "outputs": [
        {
          "output_type": "stream",
          "text": [
            "79/79 [=========================] - 3s 43ms/step - test_acc: 1.6376 - test_loss: 2.3487\n"
          ],
          "name": "stdout"
        }
      ]
    },
    {
      "cell_type": "code",
      "metadata": {
        "id": "A64KPIvKxkTs",
        "colab_type": "code",
        "colab": {}
      },
      "source": [
        "out = model.predict_generator(testloader)"
      ],
      "execution_count": null,
      "outputs": []
    },
    {
      "cell_type": "code",
      "metadata": {
        "id": "hud23hIZxyQ8",
        "colab_type": "code",
        "colab": {}
      },
      "source": [
        "torch.max(out[0][0], 1)[1]"
      ],
      "execution_count": null,
      "outputs": []
    },
    {
      "cell_type": "markdown",
      "metadata": {
        "id": "lXLnuHX4nxiT",
        "colab_type": "text"
      },
      "source": [
        "# CIFAR100 -Conv2d"
      ]
    },
    {
      "cell_type": "code",
      "metadata": {
        "id": "iGO2iw25nxNd",
        "colab_type": "code",
        "colab": {}
      },
      "source": [
        "bs = 128\n",
        "\n",
        "transform = transforms.ToTensor()\n",
        "\n",
        "trainset = torchvision.datasets.CIFAR100(root='./data', train=True, download=True, transform=transform)\n",
        "testset = torchvision.datasets.CIFAR100(root='./data', train=False, download=True, transform=transform)"
      ],
      "execution_count": null,
      "outputs": []
    },
    {
      "cell_type": "code",
      "metadata": {
        "id": "dtHxqh0qn8az",
        "colab_type": "code",
        "colab": {
          "base_uri": "https://localhost:8080/",
          "height": 34
        },
        "outputId": "7a81eac7-bf17-4460-d260-ef77014535d6"
      },
      "source": [
        "trainset[0][0].shape"
      ],
      "execution_count": 103,
      "outputs": [
        {
          "output_type": "execute_result",
          "data": {
            "text/plain": [
              "torch.Size([3, 32, 32])"
            ]
          },
          "metadata": {
            "tags": []
          },
          "execution_count": 103
        }
      ]
    },
    {
      "cell_type": "code",
      "metadata": {
        "id": "SyZEIipnoFz9",
        "colab_type": "code",
        "colab": {}
      },
      "source": [
        "trainloader = DataLoader(trainset, batch_size=bs, shuffle=True)\n",
        "testloader = DataLoader(testset, batch_size=bs)"
      ],
      "execution_count": 104,
      "outputs": []
    },
    {
      "cell_type": "code",
      "metadata": {
        "id": "4pOi7FTboHRy",
        "colab_type": "code",
        "colab": {
          "base_uri": "https://localhost:8080/",
          "height": 416
        },
        "outputId": "64b5b59b-a0f6-4332-9a40-8f67dbbc022c"
      },
      "source": [
        "input = Input((3, 32, 32))\n",
        "x = Conv2d(3, 3, 1, 0, 1, nn.ReLU())(input)\n",
        "y = Conv2d(5, 3, 1, 0, 1, nn.ReLU())(x)\n",
        "z = Conv2d(6, 3, 1, 'same', 1, nn.ReLU())(y)\n",
        "a = Flatten()(z)\n",
        "b = Dense(100, activation=nn.ReLU())(a)\n",
        "\n",
        "model = Model(input, b, device)\n",
        "model.compile(optim.Adam(model.parameters(), lr=0.001), nn.CrossEntropyLoss(), 'accuracy')\n",
        "model.summary()"
      ],
      "execution_count": 105,
      "outputs": [
        {
          "output_type": "stream",
          "text": [
            "----------------------------------------------------------------\n",
            "        Layer (type)               Output Shape         Param #\n",
            "================================================================\n",
            "            Conv2d-1            [-1, 3, 32, 32]              84\n",
            "              ReLU-2            [-1, 3, 32, 32]               0\n",
            "            Conv2d-3            [-1, 5, 30, 30]             140\n",
            "              ReLU-4            [-1, 5, 30, 30]               0\n",
            "            Conv2d-5            [-1, 6, 30, 30]             276\n",
            "              ReLU-6            [-1, 6, 30, 30]               0\n",
            "    FlattenedLayer-7                 [-1, 5400]               0\n",
            "            Linear-8                  [-1, 100]         540,100\n",
            "              ReLU-9                  [-1, 100]               0\n",
            "================================================================\n",
            "Total params: 540,600\n",
            "Trainable params: 540,600\n",
            "Non-trainable params: 0\n",
            "----------------------------------------------------------------\n",
            "Input size (MB): 0.01\n",
            "Forward/backward pass size (MB): 0.24\n",
            "Params size (MB): 2.06\n",
            "Estimated Total Size (MB): 2.31\n",
            "----------------------------------------------------------------\n",
            "Device Type: cuda\n"
          ],
          "name": "stdout"
        }
      ]
    },
    {
      "cell_type": "code",
      "metadata": {
        "id": "gd3SirTpo6Z1",
        "colab_type": "code",
        "colab": {
          "base_uri": "https://localhost:8080/",
          "height": 121
        },
        "outputId": "e78484bf-5a13-452a-9636-b2ef9b5a5f19"
      },
      "source": [
        "model.fit_generator(trainloader, 3)"
      ],
      "execution_count": 106,
      "outputs": [
        {
          "output_type": "stream",
          "text": [
            "Epoch 1/3\n",
            "391/391 [=========================] - 13s 33ms/step - loss: : 4.5612\n",
            "Epoch 2/3\n",
            "391/391 [=========================] - 13s 33ms/step - loss: : 4.5432\n",
            "Epoch 3/3\n",
            "391/391 [=========================] - 13s 33ms/step - loss: : 4.5371\n"
          ],
          "name": "stdout"
        }
      ]
    },
    {
      "cell_type": "code",
      "metadata": {
        "id": "p2R5sVz1pHAS",
        "colab_type": "code",
        "colab": {
          "base_uri": "https://localhost:8080/",
          "height": 34
        },
        "outputId": "92961d5a-2aa5-4bc4-ce8f-ddd5239aaf07"
      },
      "source": [
        "model.evaluate_generator(testloader)"
      ],
      "execution_count": 107,
      "outputs": [
        {
          "output_type": "stream",
          "text": [
            "79/79 [=========================] - 2s 22ms/step - test_acc: 2.3867 - test_loss: 2.3260\n"
          ],
          "name": "stdout"
        }
      ]
    },
    {
      "cell_type": "code",
      "metadata": {
        "id": "JCnrHa1uyUG2",
        "colab_type": "code",
        "colab": {
          "base_uri": "https://localhost:8080/",
          "height": 156
        },
        "outputId": "88d97f47-22bf-40fd-cb99-848c372a3c6e"
      },
      "source": [
        "out = model.predict_generator(testloader)\n",
        "torch.max(out[0], 1)[1]"
      ],
      "execution_count": 109,
      "outputs": [
        {
          "output_type": "execute_result",
          "data": {
            "text/plain": [
              "tensor([ 0, 97,  0, 97, 29, 65, 65,  0,  0,  0, 65, 97, 29, 97, 84, 29, 53, 97,\n",
              "        65, 53, 53, 97,  0, 60,  0, 82, 65, 97,  0, 97, 29, 65, 29, 97, 29, 65,\n",
              "        29,  0,  0, 29, 65,  0, 97, 97, 29, 97, 53, 53,  0, 60,  0, 82, 65, 97,\n",
              "        97, 65,  0,  0, 97, 97, 65, 65, 29, 65, 53, 65, 97, 29, 97, 53, 65, 97,\n",
              "        97, 65, 97,  0, 82,  0, 53, 65,  0, 29,  0, 53, 65,  0, 97,  0, 97, 97,\n",
              "        97, 97,  0, 97, 97, 84, 97, 29,  0, 53, 53, 53, 53,  0, 53, 97, 97, 60,\n",
              "        53, 60, 97, 29, 97, 53, 53, 60,  0,  0, 53, 29, 60, 53, 65, 53, 82, 53,\n",
              "         0, 65], device='cuda:0')"
            ]
          },
          "metadata": {
            "tags": []
          },
          "execution_count": 109
        }
      ]
    },
    {
      "cell_type": "markdown",
      "metadata": {
        "colab_type": "text",
        "id": "7PqD8aKda0GR"
      },
      "source": [
        "# CIFAR10"
      ]
    },
    {
      "cell_type": "code",
      "metadata": {
        "colab_type": "code",
        "id": "RxbpAFqEa0Gv",
        "colab": {}
      },
      "source": [
        "bs = 64\n",
        "\n",
        "transform = transforms.Compose([transforms.Grayscale(num_output_channels=1),\n",
        "                                transforms.Resize((1, 28*28)),\n",
        "                                transforms.ToTensor()\n",
        "])\n",
        "\n",
        "trainset = torchvision.datasets.CIFAR10(root='./data', train=True, download=True, transform=transform)\n",
        "testset = torchvision.datasets.CIFAR10(root='./data', train=False, download=True, transform=transform)"
      ],
      "execution_count": null,
      "outputs": []
    },
    {
      "cell_type": "code",
      "metadata": {
        "colab_type": "code",
        "id": "ZnANxHHFa0HF",
        "colab": {
          "base_uri": "https://localhost:8080/",
          "height": 34
        },
        "outputId": "38675c97-11a1-4e8d-a6ee-c5efef0fc709"
      },
      "source": [
        "#images for feeding fit_generator dense network \n",
        "#must be of the form (1, 1, height*width*channel)\n",
        "trainset[0][0].shape"
      ],
      "execution_count": 117,
      "outputs": [
        {
          "output_type": "execute_result",
          "data": {
            "text/plain": [
              "torch.Size([1, 1, 784])"
            ]
          },
          "metadata": {
            "tags": []
          },
          "execution_count": 117
        }
      ]
    },
    {
      "cell_type": "code",
      "metadata": {
        "colab_type": "code",
        "id": "B_ywq52Ba0HR",
        "colab": {}
      },
      "source": [
        "trainloader = DataLoader(trainset, batch_size=bs, shuffle=True)\n",
        "testloader = DataLoader(testset, batch_size=bs)"
      ],
      "execution_count": 118,
      "outputs": []
    },
    {
      "cell_type": "code",
      "metadata": {
        "colab_type": "code",
        "id": "jSO7gtHea0Hb",
        "colab": {
          "base_uri": "https://localhost:8080/",
          "height": 434
        },
        "outputId": "59cb60da-7472-4e72-af41-d840fc2d42b8"
      },
      "source": [
        "input = Input(shape=(1, 784))\n",
        "x = Dense(1024, nn.ReLU())(input)\n",
        "y = Dense(800, nn.ReLU())(x)\n",
        "z = Dense(300, activation=nn.ReLU())(y)\n",
        "a = Dense(200, activation=nn.ReLU())(z)\n",
        "b = Dense(10, activation=nn.ReLU())(a)\n",
        "\n",
        "model = Model(input, b, 'cuda')\n",
        "model.compile(optim.Adam(model.parameters(), lr=0.001), nn.CrossEntropyLoss(), 'accuracy')\n",
        "model.summary()"
      ],
      "execution_count": 119,
      "outputs": [
        {
          "output_type": "stream",
          "text": [
            "----------------------------------------------------------------\n",
            "        Layer (type)               Output Shape         Param #\n",
            "================================================================\n",
            "            Linear-1              [-1, 1, 1024]         803,840\n",
            "              ReLU-2              [-1, 1, 1024]               0\n",
            "            Linear-3               [-1, 1, 800]         820,000\n",
            "              ReLU-4               [-1, 1, 800]               0\n",
            "            Linear-5               [-1, 1, 300]         240,300\n",
            "              ReLU-6               [-1, 1, 300]               0\n",
            "            Linear-7               [-1, 1, 200]          60,200\n",
            "              ReLU-8               [-1, 1, 200]               0\n",
            "            Linear-9                [-1, 1, 10]           2,010\n",
            "             ReLU-10                [-1, 1, 10]               0\n",
            "================================================================\n",
            "Total params: 1,926,350\n",
            "Trainable params: 1,926,350\n",
            "Non-trainable params: 0\n",
            "----------------------------------------------------------------\n",
            "Input size (MB): 0.00\n",
            "Forward/backward pass size (MB): 0.04\n",
            "Params size (MB): 7.35\n",
            "Estimated Total Size (MB): 7.39\n",
            "----------------------------------------------------------------\n",
            "Device Type: cuda\n"
          ],
          "name": "stdout"
        }
      ]
    },
    {
      "cell_type": "code",
      "metadata": {
        "colab_type": "code",
        "id": "fIfJtFala0Hm",
        "colab": {
          "base_uri": "https://localhost:8080/",
          "height": 121
        },
        "outputId": "f3dc3ec5-4313-4545-8764-241aecd26fe4"
      },
      "source": [
        "model.fit_generator(trainloader, 3)"
      ],
      "execution_count": 120,
      "outputs": [
        {
          "output_type": "stream",
          "text": [
            "Epoch 1/3\n",
            "782/782 [=========================] - 21s 27ms/step - loss: : 2.3027\n",
            "Epoch 2/3\n",
            "782/782 [=========================] - 21s 27ms/step - loss: : 2.3026\n",
            "Epoch 3/3\n",
            "782/782 [=========================] - 21s 27ms/step - loss: : 2.3026\n"
          ],
          "name": "stdout"
        }
      ]
    },
    {
      "cell_type": "code",
      "metadata": {
        "colab_type": "code",
        "id": "Yo1h0ywGa0Hx",
        "colab": {
          "base_uri": "https://localhost:8080/",
          "height": 34
        },
        "outputId": "b9439cac-9a52-4c38-b05c-773f9d9eaf5a"
      },
      "source": [
        "model.evaluate_generator(testloader)"
      ],
      "execution_count": 121,
      "outputs": [
        {
          "output_type": "stream",
          "text": [
            "157/157 [=========================] - 4s 23ms/step - test_acc: 3.2235 - test_loss: 1.1660\n"
          ],
          "name": "stdout"
        }
      ]
    },
    {
      "cell_type": "code",
      "metadata": {
        "id": "Hguj7CRsy1uL",
        "colab_type": "code",
        "colab": {
          "base_uri": "https://localhost:8080/",
          "height": 34
        },
        "outputId": "ff5c1fe8-fcdd-4d5b-e92f-b543fe540eb6"
      },
      "source": [
        "out = model.predict_generator(testloader)\n",
        "torch.max(out[0][0], 1)[1]"
      ],
      "execution_count": 123,
      "outputs": [
        {
          "output_type": "execute_result",
          "data": {
            "text/plain": [
              "tensor([[0, 0, 0, 0, 0, 0, 0, 0, 0, 0]], device='cuda:0')"
            ]
          },
          "metadata": {
            "tags": []
          },
          "execution_count": 123
        }
      ]
    },
    {
      "cell_type": "markdown",
      "metadata": {
        "colab_type": "text",
        "id": "oy1zHKBmqO0m"
      },
      "source": [
        "# CIFAR10 -Conv2d"
      ]
    },
    {
      "cell_type": "code",
      "metadata": {
        "colab_type": "code",
        "id": "A6RU5p21qO00",
        "colab": {
          "base_uri": "https://localhost:8080/",
          "height": 52
        },
        "outputId": "7ef37a1d-1c1f-4fc9-ee09-f5ae3a95ffb2"
      },
      "source": [
        "bs = 64\n",
        "\n",
        "transform = transforms.ToTensor()\n",
        "\n",
        "trainset = torchvision.datasets.CIFAR10(root='./data', train=True, download=True, transform=transform)\n",
        "testset = torchvision.datasets.CIFAR10(root='./data', train=False, download=True, transform=transform)"
      ],
      "execution_count": 124,
      "outputs": [
        {
          "output_type": "stream",
          "text": [
            "Files already downloaded and verified\n",
            "Files already downloaded and verified\n"
          ],
          "name": "stdout"
        }
      ]
    },
    {
      "cell_type": "code",
      "metadata": {
        "colab_type": "code",
        "id": "7n9mt120qO1N",
        "colab": {
          "base_uri": "https://localhost:8080/",
          "height": 34
        },
        "outputId": "7ec08e42-2d3e-4820-da89-26ccca60a5af"
      },
      "source": [
        "#images for feeding fit_generator dense network \n",
        "#must be of the form (1, 1, height*width*channel)\n",
        "trainset[0][0].shape"
      ],
      "execution_count": 125,
      "outputs": [
        {
          "output_type": "execute_result",
          "data": {
            "text/plain": [
              "torch.Size([3, 32, 32])"
            ]
          },
          "metadata": {
            "tags": []
          },
          "execution_count": 125
        }
      ]
    },
    {
      "cell_type": "code",
      "metadata": {
        "colab_type": "code",
        "id": "ORhwioJ_qO1e",
        "colab": {}
      },
      "source": [
        "trainloader = DataLoader(trainset, batch_size=bs, shuffle=True)\n",
        "testloader = DataLoader(testset, batch_size=bs)"
      ],
      "execution_count": 126,
      "outputs": []
    },
    {
      "cell_type": "code",
      "metadata": {
        "colab_type": "code",
        "id": "ph8a0VdpqO1s",
        "colab": {
          "base_uri": "https://localhost:8080/",
          "height": 416
        },
        "outputId": "9fb0b875-e0a4-4045-e3d9-ea5001c8789a"
      },
      "source": [
        "input = Input(shape=(3, 32, 32))\n",
        "x = Conv2d(7, 3, 1, 'same', 1, nn.ReLU())(input)\n",
        "y = Conv2d(10, 3, 1, 'same', 1, nn.ReLU())(x)\n",
        "z = Conv2d(6, 3, 1, 'same', 1, nn.ReLU())(y)\n",
        "a = Flatten()(z)\n",
        "b = Dense(10, activation=nn.ReLU())(a)\n",
        "\n",
        "model = Model(input, b, 'cuda')\n",
        "model.compile(optim.Adam(model.parameters(), lr=0.001), nn.CrossEntropyLoss(), 'accuracy')\n",
        "model.summary()"
      ],
      "execution_count": 127,
      "outputs": [
        {
          "output_type": "stream",
          "text": [
            "----------------------------------------------------------------\n",
            "        Layer (type)               Output Shape         Param #\n",
            "================================================================\n",
            "            Conv2d-1            [-1, 7, 32, 32]             196\n",
            "              ReLU-2            [-1, 7, 32, 32]               0\n",
            "            Conv2d-3           [-1, 10, 32, 32]             640\n",
            "              ReLU-4           [-1, 10, 32, 32]               0\n",
            "            Conv2d-5            [-1, 6, 32, 32]             546\n",
            "              ReLU-6            [-1, 6, 32, 32]               0\n",
            "    FlattenedLayer-7                 [-1, 6144]               0\n",
            "            Linear-8                   [-1, 10]          61,450\n",
            "              ReLU-9                   [-1, 10]               0\n",
            "================================================================\n",
            "Total params: 62,832\n",
            "Trainable params: 62,832\n",
            "Non-trainable params: 0\n",
            "----------------------------------------------------------------\n",
            "Input size (MB): 0.01\n",
            "Forward/backward pass size (MB): 0.41\n",
            "Params size (MB): 0.24\n",
            "Estimated Total Size (MB): 0.66\n",
            "----------------------------------------------------------------\n",
            "Device Type: cuda\n"
          ],
          "name": "stdout"
        }
      ]
    },
    {
      "cell_type": "code",
      "metadata": {
        "colab_type": "code",
        "id": "eBykn4s6qO14",
        "colab": {
          "base_uri": "https://localhost:8080/",
          "height": 121
        },
        "outputId": "6c21ddb0-9dd5-4772-df97-42ebc2c5e722"
      },
      "source": [
        "model.fit_generator(trainloader, 3)"
      ],
      "execution_count": 128,
      "outputs": [
        {
          "output_type": "stream",
          "text": [
            "Epoch 1/3\n",
            "782/782 [=========================] - 17s 22ms/step - loss: : 2.1827\n",
            "Epoch 2/3\n",
            "782/782 [=========================] - 17s 22ms/step - loss: : 2.0763\n",
            "Epoch 3/3\n",
            "782/782 [=========================] - 17s 22ms/step - loss: : 2.0428\n"
          ],
          "name": "stdout"
        }
      ]
    },
    {
      "cell_type": "code",
      "metadata": {
        "colab_type": "code",
        "id": "RdF15rBJqO2E",
        "colab": {
          "base_uri": "https://localhost:8080/",
          "height": 34
        },
        "outputId": "5bf4c5a6-fa1b-40ce-c036-2e8cde4f7d28"
      },
      "source": [
        "model.evaluate_generator(testloader)"
      ],
      "execution_count": 129,
      "outputs": [
        {
          "output_type": "stream",
          "text": [
            "157/157 [=========================] - 2s 12ms/step - test_acc: 9.4871 - test_loss: 1.0352\n"
          ],
          "name": "stdout"
        }
      ]
    },
    {
      "cell_type": "code",
      "metadata": {
        "id": "Y9rfTSEtzOsI",
        "colab_type": "code",
        "colab": {
          "base_uri": "https://localhost:8080/",
          "height": 69
        },
        "outputId": "2edf0de2-fd8e-42f6-c882-8fa408e633e1"
      },
      "source": [
        "out = model.predict_generator(testloader)\n",
        "torch.max(out[0], 1)[1]"
      ],
      "execution_count": 131,
      "outputs": [
        {
          "output_type": "execute_result",
          "data": {
            "text/plain": [
              "tensor([0, 1, 0, 0, 0, 6, 1, 6, 0, 1, 0, 0, 0, 7, 1, 0, 0, 0, 0, 6, 7, 0, 0, 1,\n",
              "        7, 0, 6, 0, 1, 6, 6, 0, 0, 6, 0, 1, 7, 0, 0, 0, 0, 6, 0, 1, 0, 0, 6, 0,\n",
              "        7, 6, 0, 0, 6, 0, 0, 0, 0, 0, 0, 0, 7, 6, 1, 0], device='cuda:0')"
            ]
          },
          "metadata": {
            "tags": []
          },
          "execution_count": 131
        }
      ]
    },
    {
      "cell_type": "markdown",
      "metadata": {
        "colab_type": "text",
        "id": "wlI2RCv5bI0g"
      },
      "source": [
        "# MNIST"
      ]
    },
    {
      "cell_type": "code",
      "metadata": {
        "colab_type": "code",
        "id": "fN8MtErvbI1E",
        "colab": {}
      },
      "source": [
        "bs = 32\n",
        "\n",
        "transform = transforms.Compose([\n",
        "                                transforms.Resize((1, 28*28)),\n",
        "                                transforms.ToTensor()\n",
        "])\n",
        "\n",
        "trainset = torchvision.datasets.MNIST(root='./data', train=True, download=True, transform=transform)\n",
        "testset = torchvision.datasets.MNIST(root='./data', train=False, download=True, transform=transform)"
      ],
      "execution_count": 132,
      "outputs": []
    },
    {
      "cell_type": "code",
      "metadata": {
        "colab_type": "code",
        "id": "Sw437nMwbI1V",
        "colab": {
          "base_uri": "https://localhost:8080/",
          "height": 34
        },
        "outputId": "b6a7bfaf-9edb-4128-9949-320784e48b28"
      },
      "source": [
        "#images for feeding fit_generator dense network \n",
        "#must be of the form (1, 1, height*width*channel)\n",
        "trainset[0][0].shape"
      ],
      "execution_count": 133,
      "outputs": [
        {
          "output_type": "execute_result",
          "data": {
            "text/plain": [
              "torch.Size([1, 1, 784])"
            ]
          },
          "metadata": {
            "tags": []
          },
          "execution_count": 133
        }
      ]
    },
    {
      "cell_type": "code",
      "metadata": {
        "colab_type": "code",
        "id": "zslLOsG3bI1j",
        "colab": {}
      },
      "source": [
        "trainloader = DataLoader(trainset, batch_size=bs, shuffle=True)\n",
        "testloader = DataLoader(testset, batch_size=bs)"
      ],
      "execution_count": 134,
      "outputs": []
    },
    {
      "cell_type": "code",
      "metadata": {
        "colab_type": "code",
        "id": "p91ByqQ2bI1v",
        "colab": {
          "base_uri": "https://localhost:8080/",
          "height": 434
        },
        "outputId": "67c29381-cbe4-497a-ccc1-7ca2d859d218"
      },
      "source": [
        "input = Input(shape=(1, 784))\n",
        "x = Dense(700, nn.ReLU())(input)\n",
        "y = Dense(200, nn.ReLU())(x)\n",
        "z = Dense(300, activation=nn.ReLU())(y)\n",
        "a = Dense(100, activation=nn.ReLU())(z)\n",
        "b = Dense(10, activation=nn.ReLU())(a)\n",
        "\n",
        "model = Model(input, b, 'cuda')\n",
        "model.compile(optim.Adam(model.parameters(), lr=0.001), nn.CrossEntropyLoss(), 'accuracy')\n",
        "model.summary()"
      ],
      "execution_count": 135,
      "outputs": [
        {
          "output_type": "stream",
          "text": [
            "----------------------------------------------------------------\n",
            "        Layer (type)               Output Shape         Param #\n",
            "================================================================\n",
            "            Linear-1               [-1, 1, 700]         549,500\n",
            "              ReLU-2               [-1, 1, 700]               0\n",
            "            Linear-3               [-1, 1, 200]         140,200\n",
            "              ReLU-4               [-1, 1, 200]               0\n",
            "            Linear-5               [-1, 1, 300]          60,300\n",
            "              ReLU-6               [-1, 1, 300]               0\n",
            "            Linear-7               [-1, 1, 100]          30,100\n",
            "              ReLU-8               [-1, 1, 100]               0\n",
            "            Linear-9                [-1, 1, 10]           1,010\n",
            "             ReLU-10                [-1, 1, 10]               0\n",
            "================================================================\n",
            "Total params: 781,110\n",
            "Trainable params: 781,110\n",
            "Non-trainable params: 0\n",
            "----------------------------------------------------------------\n",
            "Input size (MB): 0.00\n",
            "Forward/backward pass size (MB): 0.02\n",
            "Params size (MB): 2.98\n",
            "Estimated Total Size (MB): 3.00\n",
            "----------------------------------------------------------------\n",
            "Device Type: cuda\n"
          ],
          "name": "stdout"
        }
      ]
    },
    {
      "cell_type": "code",
      "metadata": {
        "colab_type": "code",
        "id": "G9dQdMOybI16",
        "colab": {
          "base_uri": "https://localhost:8080/",
          "height": 121
        },
        "outputId": "2bd22f90-565a-43c2-cab8-ca924af94b2a"
      },
      "source": [
        "model.fit_generator(trainloader, 3)"
      ],
      "execution_count": 136,
      "outputs": [
        {
          "output_type": "stream",
          "text": [
            "Epoch 1/3\n",
            "1875/1875 [=========================] - 26s 14ms/step - loss: : 1.7835\n",
            "Epoch 2/3\n",
            "1875/1875 [=========================] - 25s 14ms/step - loss: : 1.5397\n",
            "Epoch 3/3\n",
            "1875/1875 [=========================] - 26s 14ms/step - loss: : 1.4520\n"
          ],
          "name": "stdout"
        }
      ]
    },
    {
      "cell_type": "code",
      "metadata": {
        "colab_type": "code",
        "id": "w4vo6b2YbI2E",
        "colab": {
          "base_uri": "https://localhost:8080/",
          "height": 34
        },
        "outputId": "42270993-614c-4f39-8993-fc9e82322939"
      },
      "source": [
        "model.evaluate_generator(testloader)"
      ],
      "execution_count": 75,
      "outputs": [
        {
          "output_type": "stream",
          "text": [
            "313/313 [=========================] - 3s 11ms/step - test_acc: 8.1515 - test_loss: 0.7382\n"
          ],
          "name": "stdout"
        }
      ]
    },
    {
      "cell_type": "code",
      "metadata": {
        "id": "eRfi44ZezzYj",
        "colab_type": "code",
        "colab": {
          "base_uri": "https://localhost:8080/",
          "height": 34
        },
        "outputId": "01d5d956-67f9-466b-b3c1-393372ef772c"
      },
      "source": [
        "out = model.predict_generator(testloader)\n",
        "torch.max(out[0][0], 1)[1]"
      ],
      "execution_count": 137,
      "outputs": [
        {
          "output_type": "execute_result",
          "data": {
            "text/plain": [
              "tensor([[0, 0, 0, 0, 0, 0, 0, 0, 0, 0]], device='cuda:0')"
            ]
          },
          "metadata": {
            "tags": []
          },
          "execution_count": 137
        }
      ]
    },
    {
      "cell_type": "markdown",
      "metadata": {
        "colab_type": "text",
        "id": "hRBTwshsrjrz"
      },
      "source": [
        "# MNIST -Conv2d"
      ]
    },
    {
      "cell_type": "code",
      "metadata": {
        "colab_type": "code",
        "id": "jJ_fr5k6rjr6",
        "colab": {}
      },
      "source": [
        "bs = 32\n",
        "\n",
        "transform = transforms.Compose([\n",
        "                                transforms.ToTensor(),\n",
        "                                transforms.Normalize(0.5, 1)\n",
        "                                ])\n",
        "\n",
        "trainset = torchvision.datasets.MNIST(root='./data', train=True, download=True, transform=transform)\n",
        "testset = torchvision.datasets.MNIST(root='./data', train=False, download=True, transform=transform)"
      ],
      "execution_count": 152,
      "outputs": []
    },
    {
      "cell_type": "code",
      "metadata": {
        "colab_type": "code",
        "id": "thk7zRJvrjsK",
        "colab": {
          "base_uri": "https://localhost:8080/",
          "height": 34
        },
        "outputId": "15bac0a7-747a-4de9-9b69-f0b0571396c8"
      },
      "source": [
        "#images for feeding fit_generator dense network \n",
        "#must be of the form (1, 1, height*width*channel)\n",
        "trainset[0][0].shape"
      ],
      "execution_count": 153,
      "outputs": [
        {
          "output_type": "execute_result",
          "data": {
            "text/plain": [
              "torch.Size([1, 28, 28])"
            ]
          },
          "metadata": {
            "tags": []
          },
          "execution_count": 153
        }
      ]
    },
    {
      "cell_type": "code",
      "metadata": {
        "colab_type": "code",
        "id": "gx0sJBazrjsd",
        "colab": {}
      },
      "source": [
        "trainloader = DataLoader(trainset, batch_size=bs, shuffle=True)\n",
        "testloader = DataLoader(testset, batch_size=bs)"
      ],
      "execution_count": 154,
      "outputs": []
    },
    {
      "cell_type": "code",
      "metadata": {
        "colab_type": "code",
        "id": "m8_dpt0irjsq",
        "colab": {
          "base_uri": "https://localhost:8080/",
          "height": 451
        },
        "outputId": "1bc5b01c-e98f-4191-858d-1ec97c8f99df"
      },
      "source": [
        "input = Input(shape=(1, 28, 28))\n",
        "x = Conv2d(25, 3, 1, 'same', 1, nn.ReLU())(input)\n",
        "y = Conv2d(50, 3, 1, 'same',1 , nn.ReLU())(x)\n",
        "y = Conv2d(20, 3, 1, 'same', 1, nn.ReLU())(y)\n",
        "z = Flatten()(y)\n",
        "a = Dense(100, activation=nn.ReLU())(z)\n",
        "b = Dense(10, activation=nn.ReLU())(a)\n",
        "\n",
        "model = Model(input, b, 'cuda')\n",
        "model.compile(optim.Adam(model.parameters(), lr=0.001), nn.CrossEntropyLoss(), 'accuracy')\n",
        "model.summary()"
      ],
      "execution_count": 155,
      "outputs": [
        {
          "output_type": "stream",
          "text": [
            "----------------------------------------------------------------\n",
            "        Layer (type)               Output Shape         Param #\n",
            "================================================================\n",
            "            Conv2d-1           [-1, 25, 28, 28]             250\n",
            "              ReLU-2           [-1, 25, 28, 28]               0\n",
            "            Conv2d-3           [-1, 50, 28, 28]          11,300\n",
            "              ReLU-4           [-1, 50, 28, 28]               0\n",
            "            Conv2d-5           [-1, 20, 28, 28]           9,020\n",
            "              ReLU-6           [-1, 20, 28, 28]               0\n",
            "    FlattenedLayer-7                [-1, 15680]               0\n",
            "            Linear-8                  [-1, 100]       1,568,100\n",
            "              ReLU-9                  [-1, 100]               0\n",
            "           Linear-10                   [-1, 10]           1,010\n",
            "             ReLU-11                   [-1, 10]               0\n",
            "================================================================\n",
            "Total params: 1,589,680\n",
            "Trainable params: 1,589,680\n",
            "Non-trainable params: 0\n",
            "----------------------------------------------------------------\n",
            "Input size (MB): 0.00\n",
            "Forward/backward pass size (MB): 1.26\n",
            "Params size (MB): 6.06\n",
            "Estimated Total Size (MB): 7.32\n",
            "----------------------------------------------------------------\n",
            "Device Type: cuda\n"
          ],
          "name": "stdout"
        }
      ]
    },
    {
      "cell_type": "code",
      "metadata": {
        "colab_type": "code",
        "id": "kxJm65blrjs1",
        "colab": {
          "base_uri": "https://localhost:8080/",
          "height": 121
        },
        "outputId": "749fcd5a-6714-49a9-c877-78aa5e5a15d8"
      },
      "source": [
        "model.fit_generator(trainloader, 3)"
      ],
      "execution_count": 156,
      "outputs": [
        {
          "output_type": "stream",
          "text": [
            "Epoch 1/3\n",
            "1875/1875 [=========================] - 40s 21ms/step - loss: : 0.4363\n",
            "Epoch 2/3\n",
            "1875/1875 [=========================] - 40s 21ms/step - loss: : 0.2569\n",
            "Epoch 3/3\n",
            "1875/1875 [=========================] - 40s 21ms/step - loss: : 0.2413\n"
          ],
          "name": "stdout"
        }
      ]
    },
    {
      "cell_type": "code",
      "metadata": {
        "colab_type": "code",
        "id": "G1DHE6hWrjtD",
        "colab": {
          "base_uri": "https://localhost:8080/",
          "height": 34
        },
        "outputId": "c5c5401b-c07b-43d6-af90-17ae4edf88bb"
      },
      "source": [
        "model.evaluate_generator(testloader)"
      ],
      "execution_count": 157,
      "outputs": [
        {
          "output_type": "stream",
          "text": [
            "313/313 [=========================] - 3s 10ms/step - test_acc: 14.4580 - test_loss: 0.1256\n"
          ],
          "name": "stdout"
        }
      ]
    },
    {
      "cell_type": "code",
      "metadata": {
        "id": "hx1DCH1NvV1J",
        "colab_type": "code",
        "colab": {}
      },
      "source": [
        "x = model.predict_generator(testloader)"
      ],
      "execution_count": 158,
      "outputs": []
    },
    {
      "cell_type": "code",
      "metadata": {
        "id": "QhLaRtBFFkoz",
        "colab_type": "code",
        "colab": {
          "base_uri": "https://localhost:8080/",
          "height": 52
        },
        "outputId": "fac17407-e827-4a4d-d890-25ee65e33bd0"
      },
      "source": [
        "torch.max(x[0], 1)[1]"
      ],
      "execution_count": 159,
      "outputs": [
        {
          "output_type": "execute_result",
          "data": {
            "text/plain": [
              "tensor([7, 2, 1, 0, 4, 1, 4, 9, 0, 9, 0, 6, 9, 0, 1, 0, 9, 7, 8, 4, 9, 6, 6, 0,\n",
              "        4, 0, 7, 4, 0, 1, 3, 1], device='cuda:0')"
            ]
          },
          "metadata": {
            "tags": []
          },
          "execution_count": 159
        }
      ]
    },
    {
      "cell_type": "code",
      "metadata": {
        "id": "EsS7YY5IyqZ8",
        "colab_type": "code",
        "colab": {
          "base_uri": "https://localhost:8080/",
          "height": 573
        },
        "outputId": "3060b07e-b3a4-493e-bdd1-60ea25fe3d6c"
      },
      "source": [
        "for i in range(32):\n",
        "  print(testloader.dataset[i][1])"
      ],
      "execution_count": 160,
      "outputs": [
        {
          "output_type": "stream",
          "text": [
            "7\n",
            "2\n",
            "1\n",
            "0\n",
            "4\n",
            "1\n",
            "4\n",
            "9\n",
            "5\n",
            "9\n",
            "0\n",
            "6\n",
            "9\n",
            "0\n",
            "1\n",
            "5\n",
            "9\n",
            "7\n",
            "3\n",
            "4\n",
            "9\n",
            "6\n",
            "6\n",
            "5\n",
            "4\n",
            "0\n",
            "7\n",
            "4\n",
            "0\n",
            "1\n",
            "3\n",
            "1\n"
          ],
          "name": "stdout"
        }
      ]
    }
  ]
}