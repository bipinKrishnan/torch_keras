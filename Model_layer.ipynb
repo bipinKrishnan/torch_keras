{
  "nbformat": 4,
  "nbformat_minor": 0,
  "metadata": {
    "colab": {
      "name": "Model_layer.ipynb",
      "provenance": [],
      "collapsed_sections": [],
      "authorship_tag": "ABX9TyM+KFEzIsFxbzLEpjB+9Uo3",
      "include_colab_link": true
    },
    "kernelspec": {
      "name": "python3",
      "display_name": "Python 3"
    }
  },
  "cells": [
    {
      "cell_type": "markdown",
      "metadata": {
        "id": "view-in-github",
        "colab_type": "text"
      },
      "source": [
        "<a href=\"https://colab.research.google.com/github/bipinKrishnan/torchkeras/blob/master/Model_layer.ipynb\" target=\"_parent\"><img src=\"https://colab.research.google.com/assets/colab-badge.svg\" alt=\"Open In Colab\"/></a>"
      ]
    },
    {
      "cell_type": "code",
      "metadata": {
        "id": "sTRyumaWcSwb",
        "colab_type": "code",
        "colab": {}
      },
      "source": [
        "!pip install pkbar\n",
        "#!pip install barbar"
      ],
      "execution_count": null,
      "outputs": []
    },
    {
      "cell_type": "code",
      "metadata": {
        "id": "Q-oEWtsIX6Xz",
        "colab_type": "code",
        "colab": {}
      },
      "source": [
        "import torch\n",
        "from torch import nn\n",
        "from torch import optim\n",
        "from torchsummary import summary as summary_\n",
        "import pkbar\n",
        "\n",
        "import warnings\n",
        "warnings.filterwarnings('ignore')"
      ],
      "execution_count": 32,
      "outputs": []
    },
    {
      "cell_type": "markdown",
      "metadata": {
        "id": "VCugQ8DJae0g",
        "colab_type": "text"
      },
      "source": [
        "# TorchKeras"
      ]
    },
    {
      "cell_type": "code",
      "metadata": {
        "id": "_h4x_jTPpIfL",
        "colab_type": "code",
        "colab": {}
      },
      "source": [
        "def Input(size):\n",
        "  return size"
      ],
      "execution_count": 33,
      "outputs": []
    },
    {
      "cell_type": "code",
      "metadata": {
        "id": "-JJKHynxYHIj",
        "colab_type": "code",
        "colab": {}
      },
      "source": [
        "class Dense(nn.Module):\n",
        "  def __init__(self, outputs, activation):\n",
        "    super().__init__()\n",
        "    self.outputs = outputs\n",
        "    self.activation = activation\n",
        "\n",
        "  def __call__(self, inputs):\n",
        "    if type(inputs) == int:\n",
        "      self.inputs_size = inputs\n",
        "      self.layers = nn.Sequential(\n",
        "        nn.Linear(self.inputs_size, self.outputs),\n",
        "        self.activation\n",
        "    )\n",
        "\n",
        "      return self.layers\n",
        "\n",
        "    else:\n",
        "      self.inputs = inputs\n",
        "      self.layers = list(inputs)\n",
        "      self.layers.extend([nn.Linear(self.layers[-2].out_features, self.outputs), self.activation])\n",
        "\n",
        "      self.layers = nn.Sequential(*self.layers)\n",
        "\n",
        "      return self.layers"
      ],
      "execution_count": 34,
      "outputs": []
    },
    {
      "cell_type": "code",
      "metadata": {
        "id": "XZ81UK7tegjA",
        "colab_type": "code",
        "colab": {}
      },
      "source": [
        "class Model():\n",
        "  def __init__(self, inputs, outputs):\n",
        "    self.input_size = inputs\n",
        "    self.model = outputs\n",
        "\n",
        "  def compile(self, optimizer, loss, metrics):\n",
        "    self.opt = optimizer\n",
        "    self.criterion = loss\n",
        "    self.metrics = metrics\n",
        "\n",
        "  def summary(self):\n",
        "    summary_(self.model, (1, self.input_size))\n",
        "\n",
        "  def fit(self, data_x, data_y, epochs):\n",
        "    self.model.train()\n",
        "\n",
        "    for epoch in range(epochs):\n",
        "      print(\"Epoch {}/{}\".format(epoch+1, epochs))\n",
        "      progress = pkbar.Kbar(target=len(data_x), width=25)\n",
        "      \n",
        "      for i, (data, target) in enumerate(zip(data_x, data_y)):\n",
        "        self.opt.zero_grad()\n",
        "\n",
        "        train_out = self.model(data)\n",
        "        loss = self.criterion(train_out, target)\n",
        "        loss.backward()\n",
        "\n",
        "        self.opt.step()\n",
        "\n",
        "        progress.update(i, values=[(\"loss: \", loss.item())])\n",
        "\n",
        "      progress.add(1)\n",
        "\n",
        "  def evaluate(self, test_x, test_y):\n",
        "    self.model.eval()\n",
        "    correct, loss = 0.0, 0.0\n",
        "\n",
        "    progress = pkbar.Kbar(target=len(test_x), width=25)\n",
        "\n",
        "    for i, (data, target) in enumerate(zip(test_x, test_y)):\n",
        "      out = self.model(data)\n",
        "      loss += self.criterion(out, target)\n",
        "\n",
        "      correct += (torch.max(out, 1)[1] == target).sum()\n",
        "\n",
        "      progress.update(i, values=[(\"loss\", loss.item()), (\"acc\", (correct/len(test_x)).item())])\n",
        "    progress.add(1)\n",
        "\n",
        "\n",
        "  def fit_generator(self, generator, epochs):\n",
        "    self.model.train()\n",
        "\n",
        "    for epoch in range(epochs):\n",
        "      print(\"Epoch {}/{}\".format(epoch+1, epochs))\n",
        "      progress = pkbar.Kbar(target=len(generator), width=25)\n",
        "\n",
        "      for i, (data, target) in enumerate(generator):\n",
        "        self.opt.zero_grad()\n",
        "\n",
        "        train_out = self.model(data)\n",
        "        loss = self.criterion(train_out.squeeze(), target)\n",
        "        loss.backward()\n",
        "\n",
        "        self.opt.step()\n",
        "\n",
        "        progress.update(i, values=[(\"loss: \", loss.item())])\n",
        "\n",
        "      progress.add(1)\n",
        "      \n",
        "\n",
        "  def evaluate_generator(self, generator):\n",
        "    self.model.eval()\n",
        "    correct, loss = 0.0, 0.0\n",
        "\n",
        "    progress = pkbar.Kbar(target=len(generator), width=25)\n",
        "\n",
        "    for i, (data, target) in enumerate(generator):\n",
        "      out = self.model(data)\n",
        "      loss += self.criterion(out.squeeze(), target)\n",
        "\n",
        "      correct += (torch.max(out.squeeze(), 1)[1] == target).sum()\n",
        "\n",
        "      progress.update(i, values=[(\"test_acc\", (correct/len(generator)).item()), (\"test_loss\", loss.item())])\n",
        "\n",
        "    progress.add(1)\n",
        "      "
      ],
      "execution_count": 42,
      "outputs": []
    },
    {
      "cell_type": "markdown",
      "metadata": {
        "id": "N21QvHSGaZ3L",
        "colab_type": "text"
      },
      "source": [
        "# Test data"
      ]
    },
    {
      "cell_type": "code",
      "metadata": {
        "id": "Otnl-l-iZJJO",
        "colab_type": "code",
        "colab": {}
      },
      "source": [
        "input = Input(size=1024)\n",
        "x = Dense(54, nn.ReLU())(input)\n",
        "y = Dense(34, nn.ReLU())(x)\n",
        "z = Dense(43, activation=nn.ReLU())(y)\n",
        "a = Dense(10, activation=nn.ReLU())(z)\n",
        "b = Dense(1, activation=nn.Sigmoid())(a)"
      ],
      "execution_count": 71,
      "outputs": []
    },
    {
      "cell_type": "code",
      "metadata": {
        "id": "SKHqRcKYeLPI",
        "colab_type": "code",
        "colab": {}
      },
      "source": [
        "model = Model(input, b)\n",
        "model.compile(optim.Adam(z.parameters(), lr=0.001), nn.BCELoss(), 'accuracy')"
      ],
      "execution_count": 72,
      "outputs": []
    },
    {
      "cell_type": "code",
      "metadata": {
        "id": "ajMFyfaGyrGJ",
        "colab_type": "code",
        "colab": {
          "base_uri": "https://localhost:8080/",
          "height": 408
        },
        "outputId": "8e90957c-58d0-4622-abc7-1024d0e77f01"
      },
      "source": [
        "model.summary()"
      ],
      "execution_count": 73,
      "outputs": [
        {
          "output_type": "stream",
          "text": [
            "----------------------------------------------------------------\n",
            "        Layer (type)               Output Shape         Param #\n",
            "================================================================\n",
            "            Linear-1                [-1, 1, 54]          55,350\n",
            "              ReLU-2                [-1, 1, 54]               0\n",
            "            Linear-3                [-1, 1, 34]           1,870\n",
            "              ReLU-4                [-1, 1, 34]               0\n",
            "            Linear-5                [-1, 1, 43]           1,505\n",
            "              ReLU-6                [-1, 1, 43]               0\n",
            "            Linear-7                [-1, 1, 10]             440\n",
            "              ReLU-8                [-1, 1, 10]               0\n",
            "            Linear-9                 [-1, 1, 1]              11\n",
            "          Sigmoid-10                 [-1, 1, 1]               0\n",
            "================================================================\n",
            "Total params: 59,176\n",
            "Trainable params: 59,176\n",
            "Non-trainable params: 0\n",
            "----------------------------------------------------------------\n",
            "Input size (MB): 0.00\n",
            "Forward/backward pass size (MB): 0.00\n",
            "Params size (MB): 0.23\n",
            "Estimated Total Size (MB): 0.23\n",
            "----------------------------------------------------------------\n"
          ],
          "name": "stdout"
        }
      ]
    },
    {
      "cell_type": "code",
      "metadata": {
        "id": "99Pyms_5rYtP",
        "colab_type": "code",
        "colab": {}
      },
      "source": [
        "torch.manual_seed(42)\n",
        "\n",
        "x = torch.rand((10, 1, 1024), dtype=torch.float)\n",
        "y = torch.tensor((torch.rand(10, 1) < 0.5), dtype=torch.float)\n",
        "#y = torch.tensor([[0, 1, 2, 3, 4, 5, 6, 7, 8, 9]], dtype=torch.int64).reshape(-1, 1)"
      ],
      "execution_count": 74,
      "outputs": []
    },
    {
      "cell_type": "code",
      "metadata": {
        "id": "HSCwl4yqsPhw",
        "colab_type": "code",
        "colab": {
          "base_uri": "https://localhost:8080/",
          "height": 153
        },
        "outputId": "a03c7d52-6a5f-43bf-b05d-3d1b082c5db0"
      },
      "source": [
        "model.fit(x, y, 4)"
      ],
      "execution_count": 75,
      "outputs": [
        {
          "output_type": "stream",
          "text": [
            "Epoch 1/4\n",
            "10/10 [=========================] - 0s 2ms/step - loss: : 0.6707\n",
            "Epoch 2/4\n",
            "10/10 [=========================] - 0s 2ms/step - loss: : 0.6635\n",
            "Epoch 3/4\n",
            "10/10 [=========================] - 0s 2ms/step - loss: : 0.6578\n",
            "Epoch 4/4\n",
            "10/10 [=========================] - 0s 2ms/step - loss: : 0.6412\n"
          ],
          "name": "stdout"
        }
      ]
    },
    {
      "cell_type": "code",
      "metadata": {
        "id": "3oRV0zycttMR",
        "colab_type": "code",
        "colab": {
          "base_uri": "https://localhost:8080/",
          "height": 34
        },
        "outputId": "d29ae0c7-ebf9-49b4-ca39-ac432a362002"
      },
      "source": [
        "model.evaluate(x, y)"
      ],
      "execution_count": 76,
      "outputs": [
        {
          "output_type": "stream",
          "text": [
            "10/10 [=========================] - 0s 1ms/step - loss: 3.7228 - acc: 0.1111    \n"
          ],
          "name": "stdout"
        }
      ]
    },
    {
      "cell_type": "markdown",
      "metadata": {
        "id": "qtA78EwuB_QB",
        "colab_type": "text"
      },
      "source": [
        "# CIFAR100"
      ]
    },
    {
      "cell_type": "code",
      "metadata": {
        "id": "hGCt0wTGCAjI",
        "colab_type": "code",
        "colab": {}
      },
      "source": [
        "import torch\n",
        "import torchvision\n",
        "from torchvision import transforms\n",
        "from torch.utils.data import DataLoader\n",
        "import torch.nn as nn\n",
        "import torch.optim as optim\n",
        "\n",
        "import numpy as np\n",
        "import matplotlib.pyplot as plt"
      ],
      "execution_count": 49,
      "outputs": []
    },
    {
      "cell_type": "code",
      "metadata": {
        "id": "R4jc8Zb5CE2Q",
        "colab_type": "code",
        "colab": {}
      },
      "source": [
        "bs = 128\n",
        "\n",
        "transform = transforms.Compose([transforms.Grayscale(num_output_channels=1),\n",
        "                                transforms.Resize((1, 28*28)),\n",
        "                                transforms.ToTensor()\n",
        "])\n",
        "\n",
        "trainset = torchvision.datasets.CIFAR100(root='./data', train=True, download=True, transform=transform)\n",
        "testset = torchvision.datasets.CIFAR100(root='./data', train=False, download=True, transform=transform)"
      ],
      "execution_count": null,
      "outputs": []
    },
    {
      "cell_type": "code",
      "metadata": {
        "id": "wFRZvUpvUQ1n",
        "colab_type": "code",
        "colab": {
          "base_uri": "https://localhost:8080/",
          "height": 34
        },
        "outputId": "a5014358-231c-4743-be06-16266dfdb58b"
      },
      "source": [
        "#images for feeding fit_generator dense network \n",
        "#must be of the form (1, 1, height*width*channel)\n",
        "trainset[0][0].shape"
      ],
      "execution_count": 53,
      "outputs": [
        {
          "output_type": "execute_result",
          "data": {
            "text/plain": [
              "torch.Size([1, 1, 784])"
            ]
          },
          "metadata": {
            "tags": []
          },
          "execution_count": 53
        }
      ]
    },
    {
      "cell_type": "code",
      "metadata": {
        "id": "9hYwVNEsCJ7o",
        "colab_type": "code",
        "colab": {}
      },
      "source": [
        "trainloader = DataLoader(trainset, batch_size=bs, shuffle=True)\n",
        "testloader = DataLoader(testset, batch_size=bs)"
      ],
      "execution_count": 54,
      "outputs": []
    },
    {
      "cell_type": "code",
      "metadata": {
        "id": "vhQI6UtDE1DZ",
        "colab_type": "code",
        "colab": {
          "base_uri": "https://localhost:8080/",
          "height": 408
        },
        "outputId": "6c5586a5-ab65-45fe-ae2b-60cb28ded73b"
      },
      "source": [
        "input = Input(size=784)\n",
        "x = Dense(1000, nn.ReLU())(input)\n",
        "y = Dense(500, nn.ReLU())(x)\n",
        "z = Dense(700, activation=nn.ReLU())(y)\n",
        "a = Dense(200, activation=nn.ReLU())(z)\n",
        "b = Dense(100, activation=nn.ReLU())(a)\n",
        "\n",
        "model = Model(input, b)\n",
        "model.compile(optim.Adam(b.parameters(), lr=0.001), nn.CrossEntropyLoss(), 'accuracy')\n",
        "model.summary()"
      ],
      "execution_count": 55,
      "outputs": [
        {
          "output_type": "stream",
          "text": [
            "----------------------------------------------------------------\n",
            "        Layer (type)               Output Shape         Param #\n",
            "================================================================\n",
            "            Linear-1              [-1, 1, 1000]         785,000\n",
            "              ReLU-2              [-1, 1, 1000]               0\n",
            "            Linear-3               [-1, 1, 500]         500,500\n",
            "              ReLU-4               [-1, 1, 500]               0\n",
            "            Linear-5               [-1, 1, 700]         350,700\n",
            "              ReLU-6               [-1, 1, 700]               0\n",
            "            Linear-7               [-1, 1, 200]         140,200\n",
            "              ReLU-8               [-1, 1, 200]               0\n",
            "            Linear-9               [-1, 1, 100]          20,100\n",
            "             ReLU-10               [-1, 1, 100]               0\n",
            "================================================================\n",
            "Total params: 1,796,500\n",
            "Trainable params: 1,796,500\n",
            "Non-trainable params: 0\n",
            "----------------------------------------------------------------\n",
            "Input size (MB): 0.00\n",
            "Forward/backward pass size (MB): 0.04\n",
            "Params size (MB): 6.85\n",
            "Estimated Total Size (MB): 6.89\n",
            "----------------------------------------------------------------\n"
          ],
          "name": "stdout"
        }
      ]
    },
    {
      "cell_type": "code",
      "metadata": {
        "id": "Q2ahcZ9IDeEd",
        "colab_type": "code",
        "colab": {
          "base_uri": "https://localhost:8080/",
          "height": 119
        },
        "outputId": "9c5fb2c9-3556-4ce9-8049-245eba4c4693"
      },
      "source": [
        "model.fit_generator(trainloader, 3)"
      ],
      "execution_count": 56,
      "outputs": [
        {
          "output_type": "stream",
          "text": [
            "Epoch 1/3\n",
            "391/391 [=========================] - 31s 80ms/step - loss: : 4.5944\n",
            "Epoch 2/3\n",
            "391/391 [=========================] - 36s 92ms/step - loss: : 4.5823\n",
            "Epoch 3/3\n",
            "391/391 [=========================] - 42s 108ms/step - loss: : 4.5707\n"
          ],
          "name": "stdout"
        }
      ]
    },
    {
      "cell_type": "code",
      "metadata": {
        "id": "YIP9jwX1bsP2",
        "colab_type": "code",
        "colab": {
          "base_uri": "https://localhost:8080/",
          "height": 34
        },
        "outputId": "c263cbca-c62a-4d81-b7a9-63f1031deda7"
      },
      "source": [
        "model.evaluate_generator(testloader)"
      ],
      "execution_count": 57,
      "outputs": [
        {
          "output_type": "stream",
          "text": [
            "79/79 [=========================] - 4s 47ms/step - test_acc: 1.7898 - test_loss: 184.9841\n"
          ],
          "name": "stdout"
        }
      ]
    },
    {
      "cell_type": "markdown",
      "metadata": {
        "colab_type": "text",
        "id": "7PqD8aKda0GR"
      },
      "source": [
        "# CIFAR10"
      ]
    },
    {
      "cell_type": "code",
      "metadata": {
        "colab_type": "code",
        "id": "RxbpAFqEa0Gv",
        "colab": {}
      },
      "source": [
        "bs = 64\n",
        "\n",
        "transform = transforms.Compose([transforms.Grayscale(num_output_channels=1),\n",
        "                                transforms.Resize((1, 28*28)),\n",
        "                                transforms.ToTensor()\n",
        "])\n",
        "\n",
        "trainset = torchvision.datasets.CIFAR10(root='./data', train=True, download=True, transform=transform)\n",
        "testset = torchvision.datasets.CIFAR10(root='./data', train=False, download=True, transform=transform)"
      ],
      "execution_count": null,
      "outputs": []
    },
    {
      "cell_type": "code",
      "metadata": {
        "colab_type": "code",
        "id": "ZnANxHHFa0HF",
        "colab": {
          "base_uri": "https://localhost:8080/",
          "height": 34
        },
        "outputId": "f2bc5934-a742-4716-e6b6-40614da45fa7"
      },
      "source": [
        "#images for feeding fit_generator dense network \n",
        "#must be of the form (1, 1, height*width*channel)\n",
        "trainset[0][0].shape"
      ],
      "execution_count": 59,
      "outputs": [
        {
          "output_type": "execute_result",
          "data": {
            "text/plain": [
              "torch.Size([1, 1, 784])"
            ]
          },
          "metadata": {
            "tags": []
          },
          "execution_count": 59
        }
      ]
    },
    {
      "cell_type": "code",
      "metadata": {
        "colab_type": "code",
        "id": "B_ywq52Ba0HR",
        "colab": {}
      },
      "source": [
        "trainloader = DataLoader(trainset, batch_size=bs, shuffle=True)\n",
        "testloader = DataLoader(testset, batch_size=bs)"
      ],
      "execution_count": 60,
      "outputs": []
    },
    {
      "cell_type": "code",
      "metadata": {
        "colab_type": "code",
        "id": "jSO7gtHea0Hb",
        "colab": {
          "base_uri": "https://localhost:8080/",
          "height": 408
        },
        "outputId": "a1ae0716-7bb0-43f8-842f-dc2db4587303"
      },
      "source": [
        "input = Input(size=784)\n",
        "x = Dense(1024, nn.ReLU())(input)\n",
        "y = Dense(800, nn.ReLU())(x)\n",
        "z = Dense(300, activation=nn.ReLU())(y)\n",
        "a = Dense(200, activation=nn.ReLU())(z)\n",
        "b = Dense(10, activation=nn.ReLU())(a)\n",
        "\n",
        "model = Model(input, b)\n",
        "model.compile(optim.Adam(b.parameters(), lr=0.001), nn.CrossEntropyLoss(), 'accuracy')\n",
        "model.summary()"
      ],
      "execution_count": 61,
      "outputs": [
        {
          "output_type": "stream",
          "text": [
            "----------------------------------------------------------------\n",
            "        Layer (type)               Output Shape         Param #\n",
            "================================================================\n",
            "            Linear-1              [-1, 1, 1024]         803,840\n",
            "              ReLU-2              [-1, 1, 1024]               0\n",
            "            Linear-3               [-1, 1, 800]         820,000\n",
            "              ReLU-4               [-1, 1, 800]               0\n",
            "            Linear-5               [-1, 1, 300]         240,300\n",
            "              ReLU-6               [-1, 1, 300]               0\n",
            "            Linear-7               [-1, 1, 200]          60,200\n",
            "              ReLU-8               [-1, 1, 200]               0\n",
            "            Linear-9                [-1, 1, 10]           2,010\n",
            "             ReLU-10                [-1, 1, 10]               0\n",
            "================================================================\n",
            "Total params: 1,926,350\n",
            "Trainable params: 1,926,350\n",
            "Non-trainable params: 0\n",
            "----------------------------------------------------------------\n",
            "Input size (MB): 0.00\n",
            "Forward/backward pass size (MB): 0.04\n",
            "Params size (MB): 7.35\n",
            "Estimated Total Size (MB): 7.39\n",
            "----------------------------------------------------------------\n"
          ],
          "name": "stdout"
        }
      ]
    },
    {
      "cell_type": "code",
      "metadata": {
        "colab_type": "code",
        "id": "fIfJtFala0Hm",
        "colab": {
          "base_uri": "https://localhost:8080/",
          "height": 119
        },
        "outputId": "4cd5cee9-dbc4-4a40-d4cb-a9f98b20b21b"
      },
      "source": [
        "model.fit_generator(trainloader, 3)"
      ],
      "execution_count": 62,
      "outputs": [
        {
          "output_type": "stream",
          "text": [
            "Epoch 1/3\n",
            "782/782 [=========================] - 49s 62ms/step - loss: : 2.2920\n",
            "Epoch 2/3\n",
            "782/782 [=========================] - 65s 83ms/step - loss: : 2.2817\n",
            "Epoch 3/3\n",
            "782/782 [=========================] - 64s 82ms/step - loss: : 2.2779\n"
          ],
          "name": "stdout"
        }
      ]
    },
    {
      "cell_type": "code",
      "metadata": {
        "colab_type": "code",
        "id": "Yo1h0ywGa0Hx",
        "colab": {
          "base_uri": "https://localhost:8080/",
          "height": 34
        },
        "outputId": "beb80d6b-687a-4bed-de73-a9ad65a2ebf0"
      },
      "source": [
        "model.evaluate_generator(testloader)"
      ],
      "execution_count": 63,
      "outputs": [
        {
          "output_type": "stream",
          "text": [
            "157/157 [=========================] - 4s 24ms/step - test_acc: 4.8386 - test_loss: 180.5036\n"
          ],
          "name": "stdout"
        }
      ]
    },
    {
      "cell_type": "markdown",
      "metadata": {
        "colab_type": "text",
        "id": "wlI2RCv5bI0g"
      },
      "source": [
        "# MNIST"
      ]
    },
    {
      "cell_type": "code",
      "metadata": {
        "colab_type": "code",
        "id": "fN8MtErvbI1E",
        "colab": {}
      },
      "source": [
        "bs = 32\n",
        "\n",
        "transform = transforms.Compose([\n",
        "                                transforms.Resize((1, 28*28)),\n",
        "                                transforms.ToTensor()\n",
        "])\n",
        "\n",
        "trainset = torchvision.datasets.MNIST(root='./data', train=True, download=True, transform=transform)\n",
        "testset = torchvision.datasets.MNIST(root='./data', train=False, download=True, transform=transform)"
      ],
      "execution_count": null,
      "outputs": []
    },
    {
      "cell_type": "code",
      "metadata": {
        "colab_type": "code",
        "id": "Sw437nMwbI1V",
        "colab": {
          "base_uri": "https://localhost:8080/",
          "height": 34
        },
        "outputId": "0ad2f47f-4b31-4642-8e1c-b09411c255c5"
      },
      "source": [
        "#images for feeding fit_generator dense network \n",
        "#must be of the form (1, 1, height*width*channel)\n",
        "trainset[0][0].shape"
      ],
      "execution_count": 65,
      "outputs": [
        {
          "output_type": "execute_result",
          "data": {
            "text/plain": [
              "torch.Size([1, 1, 784])"
            ]
          },
          "metadata": {
            "tags": []
          },
          "execution_count": 65
        }
      ]
    },
    {
      "cell_type": "code",
      "metadata": {
        "colab_type": "code",
        "id": "zslLOsG3bI1j",
        "colab": {}
      },
      "source": [
        "trainloader = DataLoader(trainset, batch_size=bs, shuffle=True)\n",
        "testloader = DataLoader(testset, batch_size=bs)"
      ],
      "execution_count": 66,
      "outputs": []
    },
    {
      "cell_type": "code",
      "metadata": {
        "colab_type": "code",
        "id": "p91ByqQ2bI1v",
        "colab": {
          "base_uri": "https://localhost:8080/",
          "height": 408
        },
        "outputId": "546c1ccd-f65d-4a8c-f390-2d78ccb140b0"
      },
      "source": [
        "input = Input(size=784)\n",
        "x = Dense(700, nn.ReLU())(input)\n",
        "y = Dense(200, nn.ReLU())(x)\n",
        "z = Dense(300, activation=nn.ReLU())(y)\n",
        "a = Dense(100, activation=nn.ReLU())(z)\n",
        "b = Dense(10, activation=nn.ReLU())(a)\n",
        "\n",
        "model = Model(input, b)\n",
        "model.compile(optim.Adam(b.parameters(), lr=0.001), nn.CrossEntropyLoss(), 'accuracy')\n",
        "model.summary()"
      ],
      "execution_count": 67,
      "outputs": [
        {
          "output_type": "stream",
          "text": [
            "----------------------------------------------------------------\n",
            "        Layer (type)               Output Shape         Param #\n",
            "================================================================\n",
            "            Linear-1               [-1, 1, 700]         549,500\n",
            "              ReLU-2               [-1, 1, 700]               0\n",
            "            Linear-3               [-1, 1, 200]         140,200\n",
            "              ReLU-4               [-1, 1, 200]               0\n",
            "            Linear-5               [-1, 1, 300]          60,300\n",
            "              ReLU-6               [-1, 1, 300]               0\n",
            "            Linear-7               [-1, 1, 100]          30,100\n",
            "              ReLU-8               [-1, 1, 100]               0\n",
            "            Linear-9                [-1, 1, 10]           1,010\n",
            "             ReLU-10                [-1, 1, 10]               0\n",
            "================================================================\n",
            "Total params: 781,110\n",
            "Trainable params: 781,110\n",
            "Non-trainable params: 0\n",
            "----------------------------------------------------------------\n",
            "Input size (MB): 0.00\n",
            "Forward/backward pass size (MB): 0.02\n",
            "Params size (MB): 2.98\n",
            "Estimated Total Size (MB): 3.00\n",
            "----------------------------------------------------------------\n"
          ],
          "name": "stdout"
        }
      ]
    },
    {
      "cell_type": "code",
      "metadata": {
        "colab_type": "code",
        "id": "G9dQdMOybI16",
        "colab": {
          "base_uri": "https://localhost:8080/",
          "height": 119
        },
        "outputId": "05f3253c-b334-45ba-d909-1a24c1b6675b"
      },
      "source": [
        "model.fit_generator(trainloader, 3)"
      ],
      "execution_count": 68,
      "outputs": [
        {
          "output_type": "stream",
          "text": [
            "Epoch 1/3\n",
            "1875/1875 [=========================] - 46s 25ms/step - loss: : 1.6034\n",
            "Epoch 2/3\n",
            "1875/1875 [=========================] - 52s 28ms/step - loss: : 1.3113\n",
            "Epoch 3/3\n",
            "1875/1875 [=========================] - 52s 28ms/step - loss: : 1.2226\n"
          ],
          "name": "stdout"
        }
      ]
    },
    {
      "cell_type": "code",
      "metadata": {
        "colab_type": "code",
        "id": "w4vo6b2YbI2E",
        "colab": {
          "base_uri": "https://localhost:8080/",
          "height": 34
        },
        "outputId": "b82d2c23-4969-4c0f-8c7b-cc77c823ba5e"
      },
      "source": [
        "model.evaluate_generator(testloader)"
      ],
      "execution_count": 70,
      "outputs": [
        {
          "output_type": "stream",
          "text": [
            "313/313 [=========================] - 3s 10ms/step - test_acc: 9.7909 - test_loss: 187.0346\n"
          ],
          "name": "stdout"
        }
      ]
    },
    {
      "cell_type": "code",
      "metadata": {
        "id": "0LQLkHWxV4Cb",
        "colab_type": "code",
        "colab": {}
      },
      "source": [
        ""
      ],
      "execution_count": null,
      "outputs": []
    }
  ]
}