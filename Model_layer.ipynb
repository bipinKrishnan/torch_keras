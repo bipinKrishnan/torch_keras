{
  "nbformat": 4,
  "nbformat_minor": 0,
  "metadata": {
    "colab": {
      "name": "Model_layer.ipynb",
      "provenance": [],
      "collapsed_sections": [],
      "authorship_tag": "ABX9TyMkA7cDySS12RHwQYOUDH0r",
      "include_colab_link": true
    },
    "kernelspec": {
      "name": "python3",
      "display_name": "Python 3"
    },
    "widgets": {
      "application/vnd.jupyter.widget-state+json": {
        "2e66d8e639494355a2cd5fdaac37ce56": {
          "model_module": "@jupyter-widgets/controls",
          "model_name": "HBoxModel",
          "state": {
            "_view_name": "HBoxView",
            "_dom_classes": [],
            "_model_name": "HBoxModel",
            "_view_module": "@jupyter-widgets/controls",
            "_model_module_version": "1.5.0",
            "_view_count": null,
            "_view_module_version": "1.5.0",
            "box_style": "",
            "layout": "IPY_MODEL_40c827134fa24884ace825fef3d7ec8c",
            "_model_module": "@jupyter-widgets/controls",
            "children": [
              "IPY_MODEL_84cf3e27492842f487243e8509e00a25",
              "IPY_MODEL_346d0bd5e6e843b28e0446a317a33475"
            ]
          }
        },
        "40c827134fa24884ace825fef3d7ec8c": {
          "model_module": "@jupyter-widgets/base",
          "model_name": "LayoutModel",
          "state": {
            "_view_name": "LayoutView",
            "grid_template_rows": null,
            "right": null,
            "justify_content": null,
            "_view_module": "@jupyter-widgets/base",
            "overflow": null,
            "_model_module_version": "1.2.0",
            "_view_count": null,
            "flex_flow": null,
            "width": null,
            "min_width": null,
            "border": null,
            "align_items": null,
            "bottom": null,
            "_model_module": "@jupyter-widgets/base",
            "top": null,
            "grid_column": null,
            "overflow_y": null,
            "overflow_x": null,
            "grid_auto_flow": null,
            "grid_area": null,
            "grid_template_columns": null,
            "flex": null,
            "_model_name": "LayoutModel",
            "justify_items": null,
            "grid_row": null,
            "max_height": null,
            "align_content": null,
            "visibility": null,
            "align_self": null,
            "height": null,
            "min_height": null,
            "padding": null,
            "grid_auto_rows": null,
            "grid_gap": null,
            "max_width": null,
            "order": null,
            "_view_module_version": "1.2.0",
            "grid_template_areas": null,
            "object_position": null,
            "object_fit": null,
            "grid_auto_columns": null,
            "margin": null,
            "display": null,
            "left": null
          }
        },
        "84cf3e27492842f487243e8509e00a25": {
          "model_module": "@jupyter-widgets/controls",
          "model_name": "FloatProgressModel",
          "state": {
            "_view_name": "ProgressView",
            "style": "IPY_MODEL_48c397811cc9445da988ebd44d459f69",
            "_dom_classes": [],
            "description": "100%",
            "_model_name": "FloatProgressModel",
            "bar_style": "success",
            "max": 200,
            "_view_module": "@jupyter-widgets/controls",
            "_model_module_version": "1.5.0",
            "value": 200,
            "_view_count": null,
            "_view_module_version": "1.5.0",
            "orientation": "horizontal",
            "min": 0,
            "description_tooltip": null,
            "_model_module": "@jupyter-widgets/controls",
            "layout": "IPY_MODEL_f97fe11300984c809dc3957c6ded5359"
          }
        },
        "346d0bd5e6e843b28e0446a317a33475": {
          "model_module": "@jupyter-widgets/controls",
          "model_name": "HTMLModel",
          "state": {
            "_view_name": "HTMLView",
            "style": "IPY_MODEL_f35741b9906846fa89818d7559c767cc",
            "_dom_classes": [],
            "description": "",
            "_model_name": "HTMLModel",
            "placeholder": "​",
            "_view_module": "@jupyter-widgets/controls",
            "_model_module_version": "1.5.0",
            "value": " 200/200 [02:05&lt;00:00,  1.59it/s]",
            "_view_count": null,
            "_view_module_version": "1.5.0",
            "description_tooltip": null,
            "_model_module": "@jupyter-widgets/controls",
            "layout": "IPY_MODEL_cdc243ec0a9c4c89a6b40b6ca8c15851"
          }
        },
        "48c397811cc9445da988ebd44d459f69": {
          "model_module": "@jupyter-widgets/controls",
          "model_name": "ProgressStyleModel",
          "state": {
            "_view_name": "StyleView",
            "_model_name": "ProgressStyleModel",
            "description_width": "initial",
            "_view_module": "@jupyter-widgets/base",
            "_model_module_version": "1.5.0",
            "_view_count": null,
            "_view_module_version": "1.2.0",
            "bar_color": null,
            "_model_module": "@jupyter-widgets/controls"
          }
        },
        "f97fe11300984c809dc3957c6ded5359": {
          "model_module": "@jupyter-widgets/base",
          "model_name": "LayoutModel",
          "state": {
            "_view_name": "LayoutView",
            "grid_template_rows": null,
            "right": null,
            "justify_content": null,
            "_view_module": "@jupyter-widgets/base",
            "overflow": null,
            "_model_module_version": "1.2.0",
            "_view_count": null,
            "flex_flow": null,
            "width": null,
            "min_width": null,
            "border": null,
            "align_items": null,
            "bottom": null,
            "_model_module": "@jupyter-widgets/base",
            "top": null,
            "grid_column": null,
            "overflow_y": null,
            "overflow_x": null,
            "grid_auto_flow": null,
            "grid_area": null,
            "grid_template_columns": null,
            "flex": null,
            "_model_name": "LayoutModel",
            "justify_items": null,
            "grid_row": null,
            "max_height": null,
            "align_content": null,
            "visibility": null,
            "align_self": null,
            "height": null,
            "min_height": null,
            "padding": null,
            "grid_auto_rows": null,
            "grid_gap": null,
            "max_width": null,
            "order": null,
            "_view_module_version": "1.2.0",
            "grid_template_areas": null,
            "object_position": null,
            "object_fit": null,
            "grid_auto_columns": null,
            "margin": null,
            "display": null,
            "left": null
          }
        },
        "f35741b9906846fa89818d7559c767cc": {
          "model_module": "@jupyter-widgets/controls",
          "model_name": "DescriptionStyleModel",
          "state": {
            "_view_name": "StyleView",
            "_model_name": "DescriptionStyleModel",
            "description_width": "",
            "_view_module": "@jupyter-widgets/base",
            "_model_module_version": "1.5.0",
            "_view_count": null,
            "_view_module_version": "1.2.0",
            "_model_module": "@jupyter-widgets/controls"
          }
        },
        "cdc243ec0a9c4c89a6b40b6ca8c15851": {
          "model_module": "@jupyter-widgets/base",
          "model_name": "LayoutModel",
          "state": {
            "_view_name": "LayoutView",
            "grid_template_rows": null,
            "right": null,
            "justify_content": null,
            "_view_module": "@jupyter-widgets/base",
            "overflow": null,
            "_model_module_version": "1.2.0",
            "_view_count": null,
            "flex_flow": null,
            "width": null,
            "min_width": null,
            "border": null,
            "align_items": null,
            "bottom": null,
            "_model_module": "@jupyter-widgets/base",
            "top": null,
            "grid_column": null,
            "overflow_y": null,
            "overflow_x": null,
            "grid_auto_flow": null,
            "grid_area": null,
            "grid_template_columns": null,
            "flex": null,
            "_model_name": "LayoutModel",
            "justify_items": null,
            "grid_row": null,
            "max_height": null,
            "align_content": null,
            "visibility": null,
            "align_self": null,
            "height": null,
            "min_height": null,
            "padding": null,
            "grid_auto_rows": null,
            "grid_gap": null,
            "max_width": null,
            "order": null,
            "_view_module_version": "1.2.0",
            "grid_template_areas": null,
            "object_position": null,
            "object_fit": null,
            "grid_auto_columns": null,
            "margin": null,
            "display": null,
            "left": null
          }
        }
      }
    }
  },
  "cells": [
    {
      "cell_type": "markdown",
      "metadata": {
        "id": "view-in-github",
        "colab_type": "text"
      },
      "source": [
        "<a href=\"https://colab.research.google.com/github/bipinKrishnan/torchkeras/blob/master/Model_layer.ipynb\" target=\"_parent\"><img src=\"https://colab.research.google.com/assets/colab-badge.svg\" alt=\"Open In Colab\"/></a>"
      ]
    },
    {
      "cell_type": "code",
      "metadata": {
        "id": "Q-oEWtsIX6Xz",
        "colab_type": "code",
        "colab": {}
      },
      "source": [
        "import torch\n",
        "from torch import nn\n",
        "from torch import optim\n",
        "from tqdm.notebook import tqdm"
      ],
      "execution_count": 112,
      "outputs": []
    },
    {
      "cell_type": "code",
      "metadata": {
        "id": "wOUVRqaobdUR",
        "colab_type": "code",
        "colab": {}
      },
      "source": [
        "class Input():\n",
        "  def __init__(self, shape):\n",
        "    self.size = shape"
      ],
      "execution_count": 113,
      "outputs": []
    },
    {
      "cell_type": "code",
      "metadata": {
        "id": "-JJKHynxYHIj",
        "colab_type": "code",
        "colab": {}
      },
      "source": [
        "class Dense(nn.Module):\n",
        "  def __init__(self, outputs, activation):\n",
        "    super().__init__()\n",
        "    self.outputs = outputs\n",
        "    self.activation = activation\n",
        "\n",
        "  def __call__(self, input_size):\n",
        "    self.inputs_size = input_size.size\n",
        "    self.layers = nn.Sequential(\n",
        "        nn.Linear(self.inputs_size, self.outputs),\n",
        "        self.activation\n",
        "    )\n",
        "\n",
        "    return self.layers\n",
        "\n",
        "class Dense_(nn.Module):\n",
        "  def __init__(self, outputs, activation):\n",
        "    super().__init__()\n",
        "    self.outputs = outputs\n",
        "    self.activation = activation\n",
        "\n",
        "  def __call__(self, inputs):\n",
        "    self.inputs = inputs\n",
        "    self.layers = list(inputs)\n",
        "    self.layers.extend([nn.Linear(self.layers[-2].out_features, self.outputs), self.activation])\n",
        "\n",
        "    self.layers = nn.Sequential(*self.layers)\n",
        "\n",
        "    return self.layers\n"
      ],
      "execution_count": 167,
      "outputs": []
    },
    {
      "cell_type": "code",
      "metadata": {
        "id": "XZ81UK7tegjA",
        "colab_type": "code",
        "colab": {}
      },
      "source": [
        "class Model(Input):\n",
        "  def __init__(self, inputs, outputs):\n",
        "    self.input_size = inputs.size\n",
        "    self.model = outputs\n",
        "\n",
        "  def compile(self, optimizer, loss, metrics):\n",
        "    self.opt = optimizer\n",
        "    self.criterion = loss\n",
        "    self.metrics = metrics\n",
        "\n",
        "  def summary(self):\n",
        "    return self.model\n",
        "\n",
        "  def fit(self, data_x, data_y, epochs):\n",
        "    self.model.train()\n",
        "    for epoch in tqdm(range(epochs), total=epochs):\n",
        "      for i, (data, target) in enumerate(zip(data_x, data_y)):\n",
        "        self.opt.zero_grad()\n",
        "\n",
        "        train_out = self.model(data)\n",
        "        loss = self.criterion(train_out, target)\n",
        "        loss.backward()\n",
        "\n",
        "        self.opt.step()\n",
        "\n",
        "      print(\"Epoch: {}/{}\\tloss: {}\".format(epoch+1, epochs, loss))\n",
        "\n",
        "  def predict(self, test_x):\n",
        "    self.model.eval()\n",
        "    test_out = self.model(test_x)\n",
        "\n",
        "    return test_out.data\n",
        "      \n"
      ],
      "execution_count": 248,
      "outputs": []
    },
    {
      "cell_type": "code",
      "metadata": {
        "id": "Otnl-l-iZJJO",
        "colab_type": "code",
        "colab": {}
      },
      "source": [
        "input = Input(shape=1)\n",
        "x = Dense(54, nn.ReLU())(input)\n",
        "y = Dense_(34, nn.ReLU())(x)\n",
        "z = Dense_(43, activation=nn.ReLU())(y)\n",
        "a = Dense_(10, activation=nn.ReLU())(z)\n",
        "b = Dense_(1, activation=nn.Sigmoid())(a)"
      ],
      "execution_count": 249,
      "outputs": []
    },
    {
      "cell_type": "code",
      "metadata": {
        "id": "SKHqRcKYeLPI",
        "colab_type": "code",
        "colab": {}
      },
      "source": [
        "model = Model(input, b)\n",
        "model.compile(optim.SGD(z.parameters(), lr=0.01), nn.BCELoss(), 'accuracy')"
      ],
      "execution_count": 250,
      "outputs": []
    },
    {
      "cell_type": "code",
      "metadata": {
        "id": "ajMFyfaGyrGJ",
        "colab_type": "code",
        "colab": {
          "base_uri": "https://localhost:8080/",
          "height": 225
        },
        "outputId": "75ec9d70-3b7a-4eed-e59a-a4b3e4616516"
      },
      "source": [
        "model.summary()"
      ],
      "execution_count": 251,
      "outputs": [
        {
          "output_type": "execute_result",
          "data": {
            "text/plain": [
              "Sequential(\n",
              "  (0): Linear(in_features=1, out_features=54, bias=True)\n",
              "  (1): ReLU()\n",
              "  (2): Linear(in_features=54, out_features=34, bias=True)\n",
              "  (3): ReLU()\n",
              "  (4): Linear(in_features=34, out_features=43, bias=True)\n",
              "  (5): ReLU()\n",
              "  (6): Linear(in_features=43, out_features=10, bias=True)\n",
              "  (7): ReLU()\n",
              "  (8): Linear(in_features=10, out_features=1, bias=True)\n",
              "  (9): Sigmoid()\n",
              ")"
            ]
          },
          "metadata": {
            "tags": []
          },
          "execution_count": 251
        }
      ]
    },
    {
      "cell_type": "code",
      "metadata": {
        "id": "99Pyms_5rYtP",
        "colab_type": "code",
        "colab": {
          "base_uri": "https://localhost:8080/",
          "height": 72
        },
        "outputId": "ec687323-c5ed-4cb9-b0f1-fcad92b6b3aa"
      },
      "source": [
        "torch.manual_seed(42)\n",
        "\n",
        "x = torch.rand((30, 1), dtype=torch.float)\n",
        "y = torch.tensor((x < 0.5), dtype=torch.float)"
      ],
      "execution_count": 252,
      "outputs": [
        {
          "output_type": "stream",
          "text": [
            "/usr/local/lib/python3.6/dist-packages/ipykernel_launcher.py:4: UserWarning: To copy construct from a tensor, it is recommended to use sourceTensor.clone().detach() or sourceTensor.clone().detach().requires_grad_(True), rather than torch.tensor(sourceTensor).\n",
            "  after removing the cwd from sys.path.\n"
          ],
          "name": "stderr"
        }
      ]
    },
    {
      "cell_type": "code",
      "metadata": {
        "id": "HSCwl4yqsPhw",
        "colab_type": "code",
        "colab": {
          "base_uri": "https://localhost:8080/",
          "height": 1000,
          "referenced_widgets": [
            "2e66d8e639494355a2cd5fdaac37ce56",
            "40c827134fa24884ace825fef3d7ec8c",
            "84cf3e27492842f487243e8509e00a25",
            "346d0bd5e6e843b28e0446a317a33475",
            "48c397811cc9445da988ebd44d459f69",
            "f97fe11300984c809dc3957c6ded5359",
            "f35741b9906846fa89818d7559c767cc",
            "cdc243ec0a9c4c89a6b40b6ca8c15851"
          ]
        },
        "outputId": "997f1896-b39e-4910-fafc-2f5523ec1180"
      },
      "source": [
        "model.fit(x, y, 200)"
      ],
      "execution_count": 253,
      "outputs": [
        {
          "output_type": "display_data",
          "data": {
            "application/vnd.jupyter.widget-view+json": {
              "model_id": "2e66d8e639494355a2cd5fdaac37ce56",
              "version_minor": 0,
              "version_major": 2
            },
            "text/plain": [
              "HBox(children=(FloatProgress(value=0.0, max=200.0), HTML(value='')))"
            ]
          },
          "metadata": {
            "tags": []
          }
        },
        {
          "output_type": "stream",
          "text": [
            "Epoch: 1/200\tloss: 0.6912015676498413\n",
            "Epoch: 2/200\tloss: 0.6912000179290771\n",
            "Epoch: 3/200\tloss: 0.6911983489990234\n",
            "Epoch: 4/200\tloss: 0.691234290599823\n",
            "Epoch: 5/200\tloss: 0.6912646293640137\n",
            "Epoch: 6/200\tloss: 0.6913243532180786\n",
            "Epoch: 7/200\tloss: 0.6913262605667114\n",
            "Epoch: 8/200\tloss: 0.6913098096847534\n",
            "Epoch: 9/200\tloss: 0.6912921071052551\n",
            "Epoch: 10/200\tloss: 0.6912709474563599\n",
            "Epoch: 11/200\tloss: 0.6912432909011841\n",
            "Epoch: 12/200\tloss: 0.6912218928337097\n",
            "Epoch: 13/200\tloss: 0.691199541091919\n",
            "Epoch: 14/200\tloss: 0.6910077333450317\n",
            "Epoch: 15/200\tloss: 0.6907270550727844\n",
            "Epoch: 16/200\tloss: 0.6903905868530273\n",
            "Epoch: 17/200\tloss: 0.6901402473449707\n",
            "Epoch: 18/200\tloss: 0.6898205876350403\n",
            "Epoch: 19/200\tloss: 0.6895259618759155\n",
            "Epoch: 20/200\tloss: 0.6893135905265808\n",
            "Epoch: 21/200\tloss: 0.6890419721603394\n",
            "Epoch: 22/200\tloss: 0.6887651085853577\n",
            "Epoch: 23/200\tloss: 0.6885016560554504\n",
            "Epoch: 24/200\tloss: 0.6882117390632629\n",
            "Epoch: 25/200\tloss: 0.6879472136497498\n",
            "Epoch: 26/200\tloss: 0.6876581311225891\n",
            "Epoch: 27/200\tloss: 0.6873712539672852\n",
            "Epoch: 28/200\tloss: 0.6870993971824646\n",
            "Epoch: 29/200\tloss: 0.6867681741714478\n",
            "Epoch: 30/200\tloss: 0.6865226626396179\n",
            "Epoch: 31/200\tloss: 0.6862500905990601\n",
            "Epoch: 32/200\tloss: 0.6858736872673035\n",
            "Epoch: 33/200\tloss: 0.685628354549408\n",
            "Epoch: 34/200\tloss: 0.6852783560752869\n",
            "Epoch: 35/200\tloss: 0.6850252747535706\n",
            "Epoch: 36/200\tloss: 0.684675931930542\n",
            "Epoch: 37/200\tloss: 0.6843904852867126\n",
            "Epoch: 38/200\tloss: 0.6840388774871826\n",
            "Epoch: 39/200\tloss: 0.6836876273155212\n",
            "Epoch: 40/200\tloss: 0.6834015250205994\n",
            "Epoch: 41/200\tloss: 0.683039665222168\n",
            "Epoch: 42/200\tloss: 0.6826944351196289\n",
            "Epoch: 43/200\tloss: 0.6823844313621521\n",
            "Epoch: 44/200\tloss: 0.6820076107978821\n",
            "Epoch: 45/200\tloss: 0.6816110014915466\n",
            "Epoch: 46/200\tloss: 0.6812857985496521\n",
            "Epoch: 47/200\tloss: 0.680915355682373\n",
            "Epoch: 48/200\tloss: 0.6805210709571838\n",
            "Epoch: 49/200\tloss: 0.6801283359527588\n",
            "Epoch: 50/200\tloss: 0.6797122359275818\n",
            "Epoch: 51/200\tloss: 0.6793809533119202\n",
            "Epoch: 52/200\tloss: 0.6789743304252625\n",
            "Epoch: 53/200\tloss: 0.6785252094268799\n",
            "Epoch: 54/200\tloss: 0.6781079173088074\n",
            "Epoch: 55/200\tloss: 0.6776925325393677\n",
            "Epoch: 56/200\tloss: 0.6772364974021912\n",
            "Epoch: 57/200\tloss: 0.6767589449882507\n",
            "Epoch: 58/200\tloss: 0.676278829574585\n",
            "Epoch: 59/200\tloss: 0.675857424736023\n",
            "Epoch: 60/200\tloss: 0.675379753112793\n",
            "Epoch: 61/200\tloss: 0.6749002933502197\n",
            "Epoch: 62/200\tloss: 0.6744311451911926\n",
            "Epoch: 63/200\tloss: 0.6739444136619568\n",
            "Epoch: 64/200\tloss: 0.6734400391578674\n",
            "Epoch: 65/200\tloss: 0.6729365587234497\n",
            "Epoch: 66/200\tloss: 0.6724533438682556\n",
            "Epoch: 67/200\tloss: 0.6719681620597839\n",
            "Epoch: 68/200\tloss: 0.671469509601593\n",
            "Epoch: 69/200\tloss: 0.6709855198860168\n",
            "Epoch: 70/200\tloss: 0.6704810857772827\n",
            "Epoch: 71/200\tloss: 0.6700130701065063\n",
            "Epoch: 72/200\tloss: 0.6695312857627869\n",
            "Epoch: 73/200\tloss: 0.6690852642059326\n",
            "Epoch: 74/200\tloss: 0.6686461567878723\n",
            "Epoch: 75/200\tloss: 0.6681971549987793\n",
            "Epoch: 76/200\tloss: 0.667751669883728\n",
            "Epoch: 77/200\tloss: 0.6672906279563904\n",
            "Epoch: 78/200\tloss: 0.6668204665184021\n",
            "Epoch: 79/200\tloss: 0.6664254665374756\n",
            "Epoch: 80/200\tloss: 0.6660019159317017\n",
            "Epoch: 81/200\tloss: 0.6655620336532593\n",
            "Epoch: 82/200\tloss: 0.6651553511619568\n",
            "Epoch: 83/200\tloss: 0.6647152900695801\n",
            "Epoch: 84/200\tloss: 0.6642597913742065\n",
            "Epoch: 85/200\tloss: 0.6637939810752869\n",
            "Epoch: 86/200\tloss: 0.6633232831954956\n",
            "Epoch: 87/200\tloss: 0.6628522276878357\n",
            "Epoch: 88/200\tloss: 0.6623731851577759\n",
            "Epoch: 89/200\tloss: 0.6618747711181641\n",
            "Epoch: 90/200\tloss: 0.6613451838493347\n",
            "Epoch: 91/200\tloss: 0.660814106464386\n",
            "Epoch: 92/200\tloss: 0.6602920889854431\n",
            "Epoch: 93/200\tloss: 0.6597582697868347\n",
            "Epoch: 94/200\tloss: 0.6592189073562622\n",
            "Epoch: 95/200\tloss: 0.6586816310882568\n",
            "Epoch: 96/200\tloss: 0.6581467986106873\n",
            "Epoch: 97/200\tloss: 0.657602846622467\n",
            "Epoch: 98/200\tloss: 0.6570485830307007\n",
            "Epoch: 99/200\tloss: 0.6564906239509583\n",
            "Epoch: 100/200\tloss: 0.6559334397315979\n",
            "Epoch: 101/200\tloss: 0.6553619503974915\n",
            "Epoch: 102/200\tloss: 0.6547648906707764\n",
            "Epoch: 103/200\tloss: 0.6541861891746521\n",
            "Epoch: 104/200\tloss: 0.6535967588424683\n",
            "Epoch: 105/200\tloss: 0.6530232429504395\n",
            "Epoch: 106/200\tloss: 0.6524273157119751\n",
            "Epoch: 107/200\tloss: 0.6518415808677673\n",
            "Epoch: 108/200\tloss: 0.6512545347213745\n",
            "Epoch: 109/200\tloss: 0.6507484316825867\n",
            "Epoch: 110/200\tloss: 0.6502007246017456\n",
            "Epoch: 111/200\tloss: 0.6496679186820984\n",
            "Epoch: 112/200\tloss: 0.6490518450737\n",
            "Epoch: 113/200\tloss: 0.6484357118606567\n",
            "Epoch: 114/200\tloss: 0.6478093862533569\n",
            "Epoch: 115/200\tloss: 0.6472026109695435\n",
            "Epoch: 116/200\tloss: 0.6465708017349243\n",
            "Epoch: 117/200\tloss: 0.6459358334541321\n",
            "Epoch: 118/200\tloss: 0.6452948451042175\n",
            "Epoch: 119/200\tloss: 0.6446540951728821\n",
            "Epoch: 120/200\tloss: 0.6439917683601379\n",
            "Epoch: 121/200\tloss: 0.6433476805686951\n",
            "Epoch: 122/200\tloss: 0.6426694393157959\n",
            "Epoch: 123/200\tloss: 0.6420108079910278\n",
            "Epoch: 124/200\tloss: 0.6413233280181885\n",
            "Epoch: 125/200\tloss: 0.6406307220458984\n",
            "Epoch: 126/200\tloss: 0.639933168888092\n",
            "Epoch: 127/200\tloss: 0.6392138004302979\n",
            "Epoch: 128/200\tloss: 0.6385124921798706\n",
            "Epoch: 129/200\tloss: 0.6377801299095154\n",
            "Epoch: 130/200\tloss: 0.6370452046394348\n",
            "Epoch: 131/200\tloss: 0.6363117694854736\n",
            "Epoch: 132/200\tloss: 0.6355517506599426\n",
            "Epoch: 133/200\tloss: 0.6347699165344238\n",
            "Epoch: 134/200\tloss: 0.6340159773826599\n",
            "Epoch: 135/200\tloss: 0.6332350373268127\n",
            "Epoch: 136/200\tloss: 0.6324310302734375\n",
            "Epoch: 137/200\tloss: 0.631623387336731\n",
            "Epoch: 138/200\tloss: 0.6308259963989258\n",
            "Epoch: 139/200\tloss: 0.6300173997879028\n",
            "Epoch: 140/200\tloss: 0.6291835308074951\n",
            "Epoch: 141/200\tloss: 0.6283445358276367\n",
            "Epoch: 142/200\tloss: 0.6275209188461304\n",
            "Epoch: 143/200\tloss: 0.6266655325889587\n",
            "Epoch: 144/200\tloss: 0.6258204579353333\n",
            "Epoch: 145/200\tloss: 0.6249142289161682\n",
            "Epoch: 146/200\tloss: 0.6240188479423523\n",
            "Epoch: 147/200\tloss: 0.6231358051300049\n",
            "Epoch: 148/200\tloss: 0.6222268342971802\n",
            "Epoch: 149/200\tloss: 0.6213104128837585\n",
            "Epoch: 150/200\tloss: 0.6204038262367249\n",
            "Epoch: 151/200\tloss: 0.6194738149642944\n",
            "Epoch: 152/200\tloss: 0.6185302138328552\n",
            "Epoch: 153/200\tloss: 0.61759352684021\n",
            "Epoch: 154/200\tloss: 0.6166331171989441\n",
            "Epoch: 155/200\tloss: 0.6156474947929382\n",
            "Epoch: 156/200\tloss: 0.6146893501281738\n",
            "Epoch: 157/200\tloss: 0.6136845946311951\n",
            "Epoch: 158/200\tloss: 0.6127009987831116\n",
            "Epoch: 159/200\tloss: 0.6116751432418823\n",
            "Epoch: 160/200\tloss: 0.6106400489807129\n",
            "Epoch: 161/200\tloss: 0.6096124053001404\n",
            "Epoch: 162/200\tloss: 0.6084454655647278\n",
            "Epoch: 163/200\tloss: 0.6074190735816956\n",
            "Epoch: 164/200\tloss: 0.6063506603240967\n",
            "Epoch: 165/200\tloss: 0.6051467657089233\n",
            "Epoch: 166/200\tloss: 0.6040850281715393\n",
            "Epoch: 167/200\tloss: 0.602975070476532\n",
            "Epoch: 168/200\tloss: 0.6017602682113647\n",
            "Epoch: 169/200\tloss: 0.6006556749343872\n",
            "Epoch: 170/200\tloss: 0.5993926525115967\n",
            "Epoch: 171/200\tloss: 0.5982903838157654\n",
            "Epoch: 172/200\tloss: 0.5970291495323181\n",
            "Epoch: 173/200\tloss: 0.5958718657493591\n",
            "Epoch: 174/200\tloss: 0.5946977138519287\n",
            "Epoch: 175/200\tloss: 0.5933679342269897\n",
            "Epoch: 176/200\tloss: 0.5922014117240906\n",
            "Epoch: 177/200\tloss: 0.5908541679382324\n",
            "Epoch: 178/200\tloss: 0.5896397233009338\n",
            "Epoch: 179/200\tloss: 0.5882337093353271\n",
            "Epoch: 180/200\tloss: 0.5870260000228882\n",
            "Epoch: 181/200\tloss: 0.5857672095298767\n",
            "Epoch: 182/200\tloss: 0.5843135118484497\n",
            "Epoch: 183/200\tloss: 0.5830507874488831\n",
            "Epoch: 184/200\tloss: 0.5815970301628113\n",
            "Epoch: 185/200\tloss: 0.5802657604217529\n",
            "Epoch: 186/200\tloss: 0.5787866115570068\n",
            "Epoch: 187/200\tloss: 0.5774521231651306\n",
            "Epoch: 188/200\tloss: 0.5759031176567078\n",
            "Epoch: 189/200\tloss: 0.5743530988693237\n",
            "Epoch: 190/200\tloss: 0.5729747414588928\n",
            "Epoch: 191/200\tloss: 0.5713965892791748\n",
            "Epoch: 192/200\tloss: 0.56998211145401\n",
            "Epoch: 193/200\tloss: 0.5683332085609436\n",
            "Epoch: 194/200\tloss: 0.5666608810424805\n",
            "Epoch: 195/200\tloss: 0.5651674866676331\n",
            "Epoch: 196/200\tloss: 0.563466489315033\n",
            "Epoch: 197/200\tloss: 0.5619427561759949\n",
            "Epoch: 198/200\tloss: 0.5602505803108215\n",
            "Epoch: 199/200\tloss: 0.558535099029541\n",
            "Epoch: 200/200\tloss: 0.5569626688957214\n",
            "\n"
          ],
          "name": "stdout"
        }
      ]
    },
    {
      "cell_type": "code",
      "metadata": {
        "id": "3oRV0zycttMR",
        "colab_type": "code",
        "colab": {}
      },
      "source": [
        "print(model.predict(x).round(), y)"
      ],
      "execution_count": null,
      "outputs": []
    },
    {
      "cell_type": "code",
      "metadata": {
        "id": "HTyXuHPAzukP",
        "colab_type": "code",
        "colab": {
          "base_uri": "https://localhost:8080/",
          "height": 538
        },
        "outputId": "0869488a-6fa2-420b-b4b5-11eb0df5cfb5"
      },
      "source": [
        "model.predict(x).round() == y"
      ],
      "execution_count": 270,
      "outputs": [
        {
          "output_type": "execute_result",
          "data": {
            "text/plain": [
              "tensor([[ True],\n",
              "        [ True],\n",
              "        [ True],\n",
              "        [ True],\n",
              "        [ True],\n",
              "        [False],\n",
              "        [ True],\n",
              "        [ True],\n",
              "        [ True],\n",
              "        [ True],\n",
              "        [ True],\n",
              "        [False],\n",
              "        [ True],\n",
              "        [False],\n",
              "        [ True],\n",
              "        [ True],\n",
              "        [ True],\n",
              "        [False],\n",
              "        [ True],\n",
              "        [False],\n",
              "        [ True],\n",
              "        [ True],\n",
              "        [ True],\n",
              "        [ True],\n",
              "        [ True],\n",
              "        [ True],\n",
              "        [ True],\n",
              "        [ True],\n",
              "        [False],\n",
              "        [ True]])"
            ]
          },
          "metadata": {
            "tags": []
          },
          "execution_count": 270
        }
      ]
    },
    {
      "cell_type": "code",
      "metadata": {
        "id": "F0MhslPn0pgc",
        "colab_type": "code",
        "colab": {}
      },
      "source": [
        ""
      ],
      "execution_count": null,
      "outputs": []
    }
  ]
}