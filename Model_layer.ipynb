{
  "nbformat": 4,
  "nbformat_minor": 0,
  "metadata": {
    "colab": {
      "name": "Model_layer.ipynb",
      "provenance": [],
      "collapsed_sections": [],
      "authorship_tag": "ABX9TyOujEM8XiF7yzbOsOQaNmPA",
      "include_colab_link": true
    },
    "kernelspec": {
      "name": "python3",
      "display_name": "Python 3"
    }
  },
  "cells": [
    {
      "cell_type": "markdown",
      "metadata": {
        "id": "view-in-github",
        "colab_type": "text"
      },
      "source": [
        "<a href=\"https://colab.research.google.com/github/bipinKrishnan/torchkeras/blob/master/Model_layer.ipynb\" target=\"_parent\"><img src=\"https://colab.research.google.com/assets/colab-badge.svg\" alt=\"Open In Colab\"/></a>"
      ]
    },
    {
      "cell_type": "code",
      "metadata": {
        "id": "Q-oEWtsIX6Xz",
        "colab_type": "code",
        "colab": {}
      },
      "source": [
        "import torch\n",
        "from torch import nn"
      ],
      "execution_count": 3,
      "outputs": []
    },
    {
      "cell_type": "code",
      "metadata": {
        "id": "wOUVRqaobdUR",
        "colab_type": "code",
        "colab": {}
      },
      "source": [
        "class Input:\n",
        "  def __init__(self, shape):\n",
        "    self.size = shape"
      ],
      "execution_count": 89,
      "outputs": []
    },
    {
      "cell_type": "code",
      "metadata": {
        "id": "-JJKHynxYHIj",
        "colab_type": "code",
        "colab": {}
      },
      "source": [
        "class Dense(Input):\n",
        "  def __init__(self, outputs, activation):\n",
        "    self.outputs = outputs\n",
        "    self.activation = activation\n",
        "\n",
        "  def __call__(self, input_size):\n",
        "    self.inputs_size = input_size.size\n",
        "    self.layers = nn.Sequential(\n",
        "        nn.Linear(self.inputs_size, self.outputs),\n",
        "        self.activation\n",
        "    )\n",
        "\n",
        "    return self.layers\n",
        "\n",
        "class Dense_():\n",
        "  def __init__(self, outputs, activation):\n",
        "    self.outputs = outputs\n",
        "    self.activation = activation\n",
        "\n",
        "  def __call__(self, inputs):\n",
        "    self.inputs = inputs\n",
        "    self.layers = list(inputs)\n",
        "    self.layers.extend([nn.Linear(self.layers[0].out_features, self.outputs), self.activation])\n",
        "\n",
        "    self.layers = nn.Sequential(*self.layers)\n",
        "\n",
        "    return self.layers\n"
      ],
      "execution_count": 162,
      "outputs": []
    },
    {
      "cell_type": "code",
      "metadata": {
        "id": "Otnl-l-iZJJO",
        "colab_type": "code",
        "colab": {
          "base_uri": "https://localhost:8080/",
          "height": 121
        },
        "outputId": "10c1e1aa-24c2-4341-ff53-1baa6c15742b"
      },
      "source": [
        "input = Input(shape=9)\n",
        "x = Dense(46, nn.ReLU())(input)\n",
        "y = Dense_(34, nn.ReLU())(x)\n",
        "y"
      ],
      "execution_count": 163,
      "outputs": [
        {
          "output_type": "execute_result",
          "data": {
            "text/plain": [
              "Sequential(\n",
              "  (0): Linear(in_features=9, out_features=46, bias=True)\n",
              "  (1): ReLU()\n",
              "  (2): Linear(in_features=46, out_features=34, bias=True)\n",
              "  (3): ReLU()\n",
              ")"
            ]
          },
          "metadata": {
            "tags": []
          },
          "execution_count": 163
        }
      ]
    },
    {
      "cell_type": "code",
      "metadata": {
        "id": "5-TXsUeejWyN",
        "colab_type": "code",
        "colab": {}
      },
      "source": [
        ""
      ],
      "execution_count": null,
      "outputs": []
    }
  ]
}